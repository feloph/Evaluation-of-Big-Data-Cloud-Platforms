{
 "cells": [
  {
   "cell_type": "markdown",
   "id": "e3c844ea",
   "metadata": {},
   "source": [
    "\n",
    "\n",
    "**This project is to use some dataset to conduct Exploratiory Data Analysis (EDA), conduct classification and make prediction.\n",
    "\n",
    "The project shall proceed as follows:\n",
    "\n",
    "1. Three datasets will be used for the project: Dataset 1, Dataset 2, and Dataset 3.\n",
    "\n",
    "2. Properties of the dataset shall be evaluated by looking at the head, tail, summary, etc. Some columns which are not needed shall also be dropped through filtering.\n",
    "\n",
    "3.  In EDA, histogram, boxplot, scatter diagram, etc shall be plotted to visualise the properties of the dataset.\n",
    "\n",
    "4. Logistic regression shall be used conducted classification.\n",
    "\n",
    "5. Regression analysis shall be used to make prediction.\n",
    "\n",
    "\n"
   ]
  },
  {
   "cell_type": "markdown",
   "id": "409d4b3e",
   "metadata": {},
   "source": [
    "**Dataset 1\n",
    "\n",
    "The dataset is named DimCustomer. It is about customers' bio details and yearly income. It consists of 29 variables and 18484 observations. The variables are:\n",
    "\n",
    "1 CustomerKey\n",
    "2 GeographyKey\n",
    "3 CustomerAlternateKey\n",
    "4 Title\n",
    "5 FirstName\n",
    "6 MiddleName\n",
    "7 LastName\n",
    "8 NameStyle\n",
    "9 BirthDate\n",
    "10 MaritalStatus\n",
    "11 Suffix\n",
    "12 Gender\n",
    "13 EmailAddress\n",
    "14 YearlyIncome\n",
    "15 TotalChildren\n",
    "16 NumberChildrenAtHome\n",
    "17 EnglishEducation\n",
    "18 SpanishEducation\n",
    "19 FrenchEducation\n",
    "20 EnglishOccupation\n",
    "21 SpanishOccupation\n",
    "22 FrenchOccupation\n",
    "23 HouseOwnerFlag\n",
    "24 NumberCarsOwned\n",
    "25 AddressLine1\n",
    "26 AddressLine2\n",
    "27 Phone\n",
    "28 DateFirstPurchase\n",
    "29 CommuteDistance\n",
    "\n",
    "**This dataset will be explored and used for EDA."
   ]
  },
  {
   "cell_type": "markdown",
   "id": "3c0c5597",
   "metadata": {},
   "source": [
    "**Import the required Libraries"
   ]
  },
  {
   "cell_type": "code",
   "execution_count": 1,
   "id": "f0c647b4",
   "metadata": {},
   "outputs": [],
   "source": [
    "import pandas as pd\n",
    "import numpy as np\n",
    "import matplotlib.pyplot as plt\n",
    "import seaborn as sns\n",
    "%matplotlib inline"
   ]
  },
  {
   "cell_type": "markdown",
   "id": "76fdacb3",
   "metadata": {},
   "source": [
    "Import the dataset and explore the features"
   ]
  },
  {
   "cell_type": "code",
   "execution_count": 2,
   "id": "2eb8bf32",
   "metadata": {},
   "outputs": [],
   "source": [
    "df = pd.read_csv(\"DimCustomer.csv\",encoding=\"cp1252\")"
   ]
  },
  {
   "cell_type": "code",
   "execution_count": 3,
   "id": "111e8f10",
   "metadata": {},
   "outputs": [
    {
     "data": {
      "text/html": [
       "<div>\n",
       "<style scoped>\n",
       "    .dataframe tbody tr th:only-of-type {\n",
       "        vertical-align: middle;\n",
       "    }\n",
       "\n",
       "    .dataframe tbody tr th {\n",
       "        vertical-align: top;\n",
       "    }\n",
       "\n",
       "    .dataframe thead th {\n",
       "        text-align: right;\n",
       "    }\n",
       "</style>\n",
       "<table border=\"1\" class=\"dataframe\">\n",
       "  <thead>\n",
       "    <tr style=\"text-align: right;\">\n",
       "      <th></th>\n",
       "      <th>CustomerKey</th>\n",
       "      <th>GeographyKey</th>\n",
       "      <th>CustomerAlternateKey</th>\n",
       "      <th>Title</th>\n",
       "      <th>FirstName</th>\n",
       "      <th>MiddleName</th>\n",
       "      <th>LastName</th>\n",
       "      <th>NameStyle</th>\n",
       "      <th>BirthDate</th>\n",
       "      <th>MaritalStatus</th>\n",
       "      <th>...</th>\n",
       "      <th>EnglishOccupation</th>\n",
       "      <th>SpanishOccupation</th>\n",
       "      <th>FrenchOccupation</th>\n",
       "      <th>HouseOwnerFlag</th>\n",
       "      <th>NumberCarsOwned</th>\n",
       "      <th>AddressLine1</th>\n",
       "      <th>AddressLine2</th>\n",
       "      <th>Phone</th>\n",
       "      <th>DateFirstPurchase</th>\n",
       "      <th>CommuteDistance</th>\n",
       "    </tr>\n",
       "  </thead>\n",
       "  <tbody>\n",
       "    <tr>\n",
       "      <th>0</th>\n",
       "      <td>11000</td>\n",
       "      <td>26</td>\n",
       "      <td>AW00011000</td>\n",
       "      <td>NaN</td>\n",
       "      <td>Jon</td>\n",
       "      <td>V</td>\n",
       "      <td>Yang</td>\n",
       "      <td>False</td>\n",
       "      <td>4/8/1966</td>\n",
       "      <td>M</td>\n",
       "      <td>...</td>\n",
       "      <td>Professional</td>\n",
       "      <td>Profesional</td>\n",
       "      <td>Cadre</td>\n",
       "      <td>1</td>\n",
       "      <td>0</td>\n",
       "      <td>3761 N. 14th St</td>\n",
       "      <td>NaN</td>\n",
       "      <td>1 (11) 500 555-0162</td>\n",
       "      <td>7/22/2005</td>\n",
       "      <td>1-2 Miles</td>\n",
       "    </tr>\n",
       "    <tr>\n",
       "      <th>1</th>\n",
       "      <td>11001</td>\n",
       "      <td>37</td>\n",
       "      <td>AW00011001</td>\n",
       "      <td>NaN</td>\n",
       "      <td>Eugene</td>\n",
       "      <td>L</td>\n",
       "      <td>Huang</td>\n",
       "      <td>False</td>\n",
       "      <td>5/14/1965</td>\n",
       "      <td>S</td>\n",
       "      <td>...</td>\n",
       "      <td>Professional</td>\n",
       "      <td>Profesional</td>\n",
       "      <td>Cadre</td>\n",
       "      <td>0</td>\n",
       "      <td>1</td>\n",
       "      <td>2243 W St.</td>\n",
       "      <td>NaN</td>\n",
       "      <td>1 (11) 500 555-0110</td>\n",
       "      <td>7/18/2005</td>\n",
       "      <td>0-1 Miles</td>\n",
       "    </tr>\n",
       "    <tr>\n",
       "      <th>2</th>\n",
       "      <td>11002</td>\n",
       "      <td>31</td>\n",
       "      <td>AW00011002</td>\n",
       "      <td>NaN</td>\n",
       "      <td>Ruben</td>\n",
       "      <td>NaN</td>\n",
       "      <td>Torres</td>\n",
       "      <td>False</td>\n",
       "      <td>8/12/1965</td>\n",
       "      <td>M</td>\n",
       "      <td>...</td>\n",
       "      <td>Professional</td>\n",
       "      <td>Profesional</td>\n",
       "      <td>Cadre</td>\n",
       "      <td>1</td>\n",
       "      <td>1</td>\n",
       "      <td>5844 Linden Land</td>\n",
       "      <td>NaN</td>\n",
       "      <td>1 (11) 500 555-0184</td>\n",
       "      <td>7/10/2005</td>\n",
       "      <td>2-5 Miles</td>\n",
       "    </tr>\n",
       "    <tr>\n",
       "      <th>3</th>\n",
       "      <td>11003</td>\n",
       "      <td>11</td>\n",
       "      <td>AW00011003</td>\n",
       "      <td>NaN</td>\n",
       "      <td>Christy</td>\n",
       "      <td>NaN</td>\n",
       "      <td>Zhu</td>\n",
       "      <td>False</td>\n",
       "      <td>2/15/1968</td>\n",
       "      <td>S</td>\n",
       "      <td>...</td>\n",
       "      <td>Professional</td>\n",
       "      <td>Profesional</td>\n",
       "      <td>Cadre</td>\n",
       "      <td>0</td>\n",
       "      <td>1</td>\n",
       "      <td>1825 Village Pl.</td>\n",
       "      <td>NaN</td>\n",
       "      <td>1 (11) 500 555-0162</td>\n",
       "      <td>7/1/2005</td>\n",
       "      <td>5-10 Miles</td>\n",
       "    </tr>\n",
       "    <tr>\n",
       "      <th>4</th>\n",
       "      <td>11004</td>\n",
       "      <td>19</td>\n",
       "      <td>AW00011004</td>\n",
       "      <td>NaN</td>\n",
       "      <td>Elizabeth</td>\n",
       "      <td>NaN</td>\n",
       "      <td>Johnson</td>\n",
       "      <td>False</td>\n",
       "      <td>8/8/1968</td>\n",
       "      <td>S</td>\n",
       "      <td>...</td>\n",
       "      <td>Professional</td>\n",
       "      <td>Profesional</td>\n",
       "      <td>Cadre</td>\n",
       "      <td>1</td>\n",
       "      <td>4</td>\n",
       "      <td>7553 Harness Circle</td>\n",
       "      <td>NaN</td>\n",
       "      <td>1 (11) 500 555-0131</td>\n",
       "      <td>7/26/2005</td>\n",
       "      <td>1-2 Miles</td>\n",
       "    </tr>\n",
       "  </tbody>\n",
       "</table>\n",
       "<p>5 rows × 29 columns</p>\n",
       "</div>"
      ],
      "text/plain": [
       "   CustomerKey  GeographyKey CustomerAlternateKey Title  FirstName MiddleName  \\\n",
       "0        11000            26           AW00011000   NaN        Jon          V   \n",
       "1        11001            37           AW00011001   NaN     Eugene          L   \n",
       "2        11002            31           AW00011002   NaN      Ruben        NaN   \n",
       "3        11003            11           AW00011003   NaN    Christy        NaN   \n",
       "4        11004            19           AW00011004   NaN  Elizabeth        NaN   \n",
       "\n",
       "  LastName  NameStyle  BirthDate MaritalStatus  ... EnglishOccupation  \\\n",
       "0     Yang      False   4/8/1966             M  ...      Professional   \n",
       "1    Huang      False  5/14/1965             S  ...      Professional   \n",
       "2   Torres      False  8/12/1965             M  ...      Professional   \n",
       "3      Zhu      False  2/15/1968             S  ...      Professional   \n",
       "4  Johnson      False   8/8/1968             S  ...      Professional   \n",
       "\n",
       "  SpanishOccupation FrenchOccupation  HouseOwnerFlag  NumberCarsOwned  \\\n",
       "0       Profesional            Cadre               1                0   \n",
       "1       Profesional            Cadre               0                1   \n",
       "2       Profesional            Cadre               1                1   \n",
       "3       Profesional            Cadre               0                1   \n",
       "4       Profesional            Cadre               1                4   \n",
       "\n",
       "          AddressLine1 AddressLine2                Phone DateFirstPurchase  \\\n",
       "0      3761 N. 14th St          NaN  1 (11) 500 555-0162         7/22/2005   \n",
       "1           2243 W St.          NaN  1 (11) 500 555-0110         7/18/2005   \n",
       "2     5844 Linden Land          NaN  1 (11) 500 555-0184         7/10/2005   \n",
       "3     1825 Village Pl.          NaN  1 (11) 500 555-0162          7/1/2005   \n",
       "4  7553 Harness Circle          NaN  1 (11) 500 555-0131         7/26/2005   \n",
       "\n",
       "  CommuteDistance  \n",
       "0       1-2 Miles  \n",
       "1       0-1 Miles  \n",
       "2       2-5 Miles  \n",
       "3      5-10 Miles  \n",
       "4       1-2 Miles  \n",
       "\n",
       "[5 rows x 29 columns]"
      ]
     },
     "execution_count": 3,
     "metadata": {},
     "output_type": "execute_result"
    }
   ],
   "source": [
    "df.head()"
   ]
  },
  {
   "cell_type": "code",
   "execution_count": 4,
   "id": "fac1693c",
   "metadata": {},
   "outputs": [
    {
     "data": {
      "text/html": [
       "<div>\n",
       "<style scoped>\n",
       "    .dataframe tbody tr th:only-of-type {\n",
       "        vertical-align: middle;\n",
       "    }\n",
       "\n",
       "    .dataframe tbody tr th {\n",
       "        vertical-align: top;\n",
       "    }\n",
       "\n",
       "    .dataframe thead th {\n",
       "        text-align: right;\n",
       "    }\n",
       "</style>\n",
       "<table border=\"1\" class=\"dataframe\">\n",
       "  <thead>\n",
       "    <tr style=\"text-align: right;\">\n",
       "      <th></th>\n",
       "      <th>CustomerKey</th>\n",
       "      <th>GeographyKey</th>\n",
       "      <th>CustomerAlternateKey</th>\n",
       "      <th>Title</th>\n",
       "      <th>FirstName</th>\n",
       "      <th>MiddleName</th>\n",
       "      <th>LastName</th>\n",
       "      <th>NameStyle</th>\n",
       "      <th>BirthDate</th>\n",
       "      <th>MaritalStatus</th>\n",
       "      <th>...</th>\n",
       "      <th>EnglishOccupation</th>\n",
       "      <th>SpanishOccupation</th>\n",
       "      <th>FrenchOccupation</th>\n",
       "      <th>HouseOwnerFlag</th>\n",
       "      <th>NumberCarsOwned</th>\n",
       "      <th>AddressLine1</th>\n",
       "      <th>AddressLine2</th>\n",
       "      <th>Phone</th>\n",
       "      <th>DateFirstPurchase</th>\n",
       "      <th>CommuteDistance</th>\n",
       "    </tr>\n",
       "  </thead>\n",
       "  <tbody>\n",
       "    <tr>\n",
       "      <th>18479</th>\n",
       "      <td>29479</td>\n",
       "      <td>209</td>\n",
       "      <td>AW00029479</td>\n",
       "      <td>NaN</td>\n",
       "      <td>Tommy</td>\n",
       "      <td>L</td>\n",
       "      <td>Tang</td>\n",
       "      <td>False</td>\n",
       "      <td>7/4/1958</td>\n",
       "      <td>M</td>\n",
       "      <td>...</td>\n",
       "      <td>Clerical</td>\n",
       "      <td>Administrativo</td>\n",
       "      <td>Employé</td>\n",
       "      <td>1</td>\n",
       "      <td>0</td>\n",
       "      <td>111, rue Maillard</td>\n",
       "      <td>NaN</td>\n",
       "      <td>1 (11) 500 555-0136</td>\n",
       "      <td>3/8/2007</td>\n",
       "      <td>0-1 Miles</td>\n",
       "    </tr>\n",
       "    <tr>\n",
       "      <th>18480</th>\n",
       "      <td>29480</td>\n",
       "      <td>248</td>\n",
       "      <td>AW00029480</td>\n",
       "      <td>NaN</td>\n",
       "      <td>Nina</td>\n",
       "      <td>W</td>\n",
       "      <td>Raji</td>\n",
       "      <td>False</td>\n",
       "      <td>11/10/1960</td>\n",
       "      <td>S</td>\n",
       "      <td>...</td>\n",
       "      <td>Clerical</td>\n",
       "      <td>Administrativo</td>\n",
       "      <td>Employé</td>\n",
       "      <td>1</td>\n",
       "      <td>0</td>\n",
       "      <td>9 Katherine Drive</td>\n",
       "      <td>NaN</td>\n",
       "      <td>1 (11) 500 555-0146</td>\n",
       "      <td>1/18/2008</td>\n",
       "      <td>0-1 Miles</td>\n",
       "    </tr>\n",
       "    <tr>\n",
       "      <th>18481</th>\n",
       "      <td>29481</td>\n",
       "      <td>120</td>\n",
       "      <td>AW00029481</td>\n",
       "      <td>NaN</td>\n",
       "      <td>Ivan</td>\n",
       "      <td>NaN</td>\n",
       "      <td>Suri</td>\n",
       "      <td>False</td>\n",
       "      <td>1/5/1960</td>\n",
       "      <td>S</td>\n",
       "      <td>...</td>\n",
       "      <td>Clerical</td>\n",
       "      <td>Administrativo</td>\n",
       "      <td>Employé</td>\n",
       "      <td>0</td>\n",
       "      <td>0</td>\n",
       "      <td>Knaackstr 4</td>\n",
       "      <td>NaN</td>\n",
       "      <td>1 (11) 500 555-0144</td>\n",
       "      <td>2/13/2006</td>\n",
       "      <td>0-1 Miles</td>\n",
       "    </tr>\n",
       "    <tr>\n",
       "      <th>18482</th>\n",
       "      <td>29482</td>\n",
       "      <td>179</td>\n",
       "      <td>AW00029482</td>\n",
       "      <td>NaN</td>\n",
       "      <td>Clayton</td>\n",
       "      <td>NaN</td>\n",
       "      <td>Zhang</td>\n",
       "      <td>False</td>\n",
       "      <td>3/5/1959</td>\n",
       "      <td>M</td>\n",
       "      <td>...</td>\n",
       "      <td>Clerical</td>\n",
       "      <td>Administrativo</td>\n",
       "      <td>Employé</td>\n",
       "      <td>1</td>\n",
       "      <td>0</td>\n",
       "      <td>1080, quai de Grenelle</td>\n",
       "      <td>NaN</td>\n",
       "      <td>1 (11) 500 555-0137</td>\n",
       "      <td>3/22/2007</td>\n",
       "      <td>0-1 Miles</td>\n",
       "    </tr>\n",
       "    <tr>\n",
       "      <th>18483</th>\n",
       "      <td>29483</td>\n",
       "      <td>217</td>\n",
       "      <td>AW00029483</td>\n",
       "      <td>NaN</td>\n",
       "      <td>Jésus</td>\n",
       "      <td>L</td>\n",
       "      <td>Navarro</td>\n",
       "      <td>False</td>\n",
       "      <td>12/8/1959</td>\n",
       "      <td>M</td>\n",
       "      <td>...</td>\n",
       "      <td>Clerical</td>\n",
       "      <td>Administrativo</td>\n",
       "      <td>Employé</td>\n",
       "      <td>1</td>\n",
       "      <td>0</td>\n",
       "      <td>244, rue de la Centenaire</td>\n",
       "      <td>NaN</td>\n",
       "      <td>1 (11) 500 555-0141</td>\n",
       "      <td>3/13/2007</td>\n",
       "      <td>0-1 Miles</td>\n",
       "    </tr>\n",
       "  </tbody>\n",
       "</table>\n",
       "<p>5 rows × 29 columns</p>\n",
       "</div>"
      ],
      "text/plain": [
       "       CustomerKey  GeographyKey CustomerAlternateKey Title FirstName  \\\n",
       "18479        29479           209           AW00029479   NaN     Tommy   \n",
       "18480        29480           248           AW00029480   NaN      Nina   \n",
       "18481        29481           120           AW00029481   NaN      Ivan   \n",
       "18482        29482           179           AW00029482   NaN   Clayton   \n",
       "18483        29483           217           AW00029483   NaN     Jésus   \n",
       "\n",
       "      MiddleName LastName  NameStyle   BirthDate MaritalStatus  ...  \\\n",
       "18479          L     Tang      False    7/4/1958             M  ...   \n",
       "18480          W     Raji      False  11/10/1960             S  ...   \n",
       "18481        NaN     Suri      False    1/5/1960             S  ...   \n",
       "18482        NaN    Zhang      False    3/5/1959             M  ...   \n",
       "18483          L  Navarro      False   12/8/1959             M  ...   \n",
       "\n",
       "      EnglishOccupation SpanishOccupation FrenchOccupation  HouseOwnerFlag  \\\n",
       "18479          Clerical    Administrativo          Employé               1   \n",
       "18480          Clerical    Administrativo          Employé               1   \n",
       "18481          Clerical    Administrativo          Employé               0   \n",
       "18482          Clerical    Administrativo          Employé               1   \n",
       "18483          Clerical    Administrativo          Employé               1   \n",
       "\n",
       "       NumberCarsOwned               AddressLine1 AddressLine2  \\\n",
       "18479                0          111, rue Maillard          NaN   \n",
       "18480                0          9 Katherine Drive          NaN   \n",
       "18481                0                Knaackstr 4          NaN   \n",
       "18482                0     1080, quai de Grenelle          NaN   \n",
       "18483                0  244, rue de la Centenaire          NaN   \n",
       "\n",
       "                     Phone DateFirstPurchase CommuteDistance  \n",
       "18479  1 (11) 500 555-0136          3/8/2007       0-1 Miles  \n",
       "18480  1 (11) 500 555-0146         1/18/2008       0-1 Miles  \n",
       "18481  1 (11) 500 555-0144         2/13/2006       0-1 Miles  \n",
       "18482  1 (11) 500 555-0137         3/22/2007       0-1 Miles  \n",
       "18483  1 (11) 500 555-0141         3/13/2007       0-1 Miles  \n",
       "\n",
       "[5 rows x 29 columns]"
      ]
     },
     "execution_count": 4,
     "metadata": {},
     "output_type": "execute_result"
    }
   ],
   "source": [
    "df.tail()"
   ]
  },
  {
   "cell_type": "code",
   "execution_count": 4,
   "id": "1829eb65",
   "metadata": {},
   "outputs": [
    {
     "name": "stdout",
     "output_type": "stream",
     "text": [
      "<class 'pandas.core.frame.DataFrame'>\n",
      "RangeIndex: 18484 entries, 0 to 18483\n",
      "Data columns (total 29 columns):\n",
      " #   Column                Non-Null Count  Dtype \n",
      "---  ------                --------------  ----- \n",
      " 0   CustomerKey           18484 non-null  int64 \n",
      " 1   GeographyKey          18484 non-null  int64 \n",
      " 2   CustomerAlternateKey  18484 non-null  object\n",
      " 3   Title                 101 non-null    object\n",
      " 4   FirstName             18484 non-null  object\n",
      " 5   MiddleName            10654 non-null  object\n",
      " 6   LastName              18484 non-null  object\n",
      " 7   NameStyle             18484 non-null  bool  \n",
      " 8   BirthDate             18484 non-null  object\n",
      " 9   MaritalStatus         18484 non-null  object\n",
      " 10  Suffix                3 non-null      object\n",
      " 11  Gender                18484 non-null  object\n",
      " 12  EmailAddress          18484 non-null  object\n",
      " 13  YearlyIncome          18484 non-null  int64 \n",
      " 14  TotalChildren         18484 non-null  int64 \n",
      " 15  NumberChildrenAtHome  18484 non-null  int64 \n",
      " 16  EnglishEducation      18484 non-null  object\n",
      " 17  SpanishEducation      18484 non-null  object\n",
      " 18  FrenchEducation       18484 non-null  object\n",
      " 19  EnglishOccupation     18484 non-null  object\n",
      " 20  SpanishOccupation     18484 non-null  object\n",
      " 21  FrenchOccupation      18484 non-null  object\n",
      " 22  HouseOwnerFlag        18484 non-null  int64 \n",
      " 23  NumberCarsOwned       18484 non-null  int64 \n",
      " 24  AddressLine1          18484 non-null  object\n",
      " 25  AddressLine2          312 non-null    object\n",
      " 26  Phone                 18484 non-null  object\n",
      " 27  DateFirstPurchase     18484 non-null  object\n",
      " 28  CommuteDistance       18484 non-null  object\n",
      "dtypes: bool(1), int64(7), object(21)\n",
      "memory usage: 4.0+ MB\n"
     ]
    }
   ],
   "source": [
    "df.info()"
   ]
  },
  {
   "cell_type": "markdown",
   "id": "779a9223",
   "metadata": {},
   "source": [
    "**Checking for missing or null values"
   ]
  },
  {
   "cell_type": "code",
   "execution_count": 5,
   "id": "59a2c22c",
   "metadata": {},
   "outputs": [
    {
     "data": {
      "text/plain": [
       "True"
      ]
     },
     "execution_count": 5,
     "metadata": {},
     "output_type": "execute_result"
    }
   ],
   "source": [
    "df.isnull().values.any()"
   ]
  },
  {
   "cell_type": "markdown",
   "id": "546c7162",
   "metadata": {},
   "source": [
    "**The result above shows that there are null values in the dataframe. Hence we need to know how many they are"
   ]
  },
  {
   "cell_type": "code",
   "execution_count": 6,
   "id": "f0ce3ef9",
   "metadata": {},
   "outputs": [
    {
     "data": {
      "text/plain": [
       "CustomerKey                 0\n",
       "GeographyKey                0\n",
       "CustomerAlternateKey        0\n",
       "Title                   18383\n",
       "FirstName                   0\n",
       "MiddleName               7830\n",
       "LastName                    0\n",
       "NameStyle                   0\n",
       "BirthDate                   0\n",
       "MaritalStatus               0\n",
       "Suffix                  18481\n",
       "Gender                      0\n",
       "EmailAddress                0\n",
       "YearlyIncome                0\n",
       "TotalChildren               0\n",
       "NumberChildrenAtHome        0\n",
       "EnglishEducation            0\n",
       "SpanishEducation            0\n",
       "FrenchEducation             0\n",
       "EnglishOccupation           0\n",
       "SpanishOccupation           0\n",
       "FrenchOccupation            0\n",
       "HouseOwnerFlag              0\n",
       "NumberCarsOwned             0\n",
       "AddressLine1                0\n",
       "AddressLine2            18172\n",
       "Phone                       0\n",
       "DateFirstPurchase           0\n",
       "CommuteDistance             0\n",
       "dtype: int64"
      ]
     },
     "execution_count": 6,
     "metadata": {},
     "output_type": "execute_result"
    }
   ],
   "source": [
    "df.isnull().sum()"
   ]
  },
  {
   "cell_type": "markdown",
   "id": "093fd0f9",
   "metadata": {},
   "source": [
    "**The output above shows that there are null values in Title, MiddleName, Suffix and AddressLine2 variables. However, an examination of these variables visa vis the analysis in this study shows that they will not be further required in the analysis. Therefore, they shall be dropped. Other variables which will not be required will also be dropped."
   ]
  },
  {
   "cell_type": "code",
   "execution_count": 7,
   "id": "40f40acd",
   "metadata": {},
   "outputs": [],
   "source": [
    "df.drop([\"CustomerKey\", \"GeographyKey\", \"CustomerAlternateKey\", \"Title\",\"BirthDate\", \"FirstName\", \"MiddleName\",\"LastName\",\"NameStyle\",\"Suffix\",\"EmailAddress\",\"SpanishEducation\",\"FrenchEducation\",\"SpanishOccupation\",\"FrenchOccupation\",\"AddressLine1\",\"AddressLine2\",\"Phone\",\"DateFirstPurchase\"],axis=1, inplace=True) \n"
   ]
  },
  {
   "cell_type": "code",
   "execution_count": 8,
   "id": "0a4cbb40",
   "metadata": {},
   "outputs": [
    {
     "name": "stdout",
     "output_type": "stream",
     "text": [
      "<class 'pandas.core.frame.DataFrame'>\n",
      "RangeIndex: 18484 entries, 0 to 18483\n",
      "Data columns (total 10 columns):\n",
      " #   Column                Non-Null Count  Dtype \n",
      "---  ------                --------------  ----- \n",
      " 0   MaritalStatus         18484 non-null  object\n",
      " 1   Gender                18484 non-null  object\n",
      " 2   YearlyIncome          18484 non-null  int64 \n",
      " 3   TotalChildren         18484 non-null  int64 \n",
      " 4   NumberChildrenAtHome  18484 non-null  int64 \n",
      " 5   EnglishEducation      18484 non-null  object\n",
      " 6   EnglishOccupation     18484 non-null  object\n",
      " 7   HouseOwnerFlag        18484 non-null  int64 \n",
      " 8   NumberCarsOwned       18484 non-null  int64 \n",
      " 9   CommuteDistance       18484 non-null  object\n",
      "dtypes: int64(5), object(5)\n",
      "memory usage: 1.4+ MB\n"
     ]
    }
   ],
   "source": [
    "df.info()"
   ]
  },
  {
   "cell_type": "markdown",
   "id": "8fce3b36",
   "metadata": {},
   "source": [
    "**The dataset has been filtered and reduced to 10 variables dataframe which shall be used for further analysis as given below. The number of observation still remains the same (18,484), hence there are no null or missing data. Five variables are of the data type 'int64' while the remaining 5 variables are of the data type 'object'."
   ]
  },
  {
   "cell_type": "code",
   "execution_count": 9,
   "id": "45235c88",
   "metadata": {},
   "outputs": [
    {
     "data": {
      "text/html": [
       "<div>\n",
       "<style scoped>\n",
       "    .dataframe tbody tr th:only-of-type {\n",
       "        vertical-align: middle;\n",
       "    }\n",
       "\n",
       "    .dataframe tbody tr th {\n",
       "        vertical-align: top;\n",
       "    }\n",
       "\n",
       "    .dataframe thead th {\n",
       "        text-align: right;\n",
       "    }\n",
       "</style>\n",
       "<table border=\"1\" class=\"dataframe\">\n",
       "  <thead>\n",
       "    <tr style=\"text-align: right;\">\n",
       "      <th></th>\n",
       "      <th>YearlyIncome</th>\n",
       "      <th>TotalChildren</th>\n",
       "      <th>NumberChildrenAtHome</th>\n",
       "      <th>HouseOwnerFlag</th>\n",
       "      <th>NumberCarsOwned</th>\n",
       "    </tr>\n",
       "  </thead>\n",
       "  <tbody>\n",
       "    <tr>\n",
       "      <th>count</th>\n",
       "      <td>18484.000000</td>\n",
       "      <td>18484.000000</td>\n",
       "      <td>18484.000000</td>\n",
       "      <td>18484.000000</td>\n",
       "      <td>18484.000000</td>\n",
       "    </tr>\n",
       "    <tr>\n",
       "      <th>mean</th>\n",
       "      <td>57305.777970</td>\n",
       "      <td>1.844352</td>\n",
       "      <td>1.004058</td>\n",
       "      <td>0.676369</td>\n",
       "      <td>1.502705</td>\n",
       "    </tr>\n",
       "    <tr>\n",
       "      <th>std</th>\n",
       "      <td>32285.841703</td>\n",
       "      <td>1.612408</td>\n",
       "      <td>1.522660</td>\n",
       "      <td>0.467874</td>\n",
       "      <td>1.138394</td>\n",
       "    </tr>\n",
       "    <tr>\n",
       "      <th>min</th>\n",
       "      <td>10000.000000</td>\n",
       "      <td>0.000000</td>\n",
       "      <td>0.000000</td>\n",
       "      <td>0.000000</td>\n",
       "      <td>0.000000</td>\n",
       "    </tr>\n",
       "    <tr>\n",
       "      <th>25%</th>\n",
       "      <td>30000.000000</td>\n",
       "      <td>0.000000</td>\n",
       "      <td>0.000000</td>\n",
       "      <td>0.000000</td>\n",
       "      <td>1.000000</td>\n",
       "    </tr>\n",
       "    <tr>\n",
       "      <th>50%</th>\n",
       "      <td>60000.000000</td>\n",
       "      <td>2.000000</td>\n",
       "      <td>0.000000</td>\n",
       "      <td>1.000000</td>\n",
       "      <td>2.000000</td>\n",
       "    </tr>\n",
       "    <tr>\n",
       "      <th>75%</th>\n",
       "      <td>70000.000000</td>\n",
       "      <td>3.000000</td>\n",
       "      <td>2.000000</td>\n",
       "      <td>1.000000</td>\n",
       "      <td>2.000000</td>\n",
       "    </tr>\n",
       "    <tr>\n",
       "      <th>max</th>\n",
       "      <td>170000.000000</td>\n",
       "      <td>5.000000</td>\n",
       "      <td>5.000000</td>\n",
       "      <td>1.000000</td>\n",
       "      <td>4.000000</td>\n",
       "    </tr>\n",
       "  </tbody>\n",
       "</table>\n",
       "</div>"
      ],
      "text/plain": [
       "        YearlyIncome  TotalChildren  NumberChildrenAtHome  HouseOwnerFlag  \\\n",
       "count   18484.000000   18484.000000          18484.000000    18484.000000   \n",
       "mean    57305.777970       1.844352              1.004058        0.676369   \n",
       "std     32285.841703       1.612408              1.522660        0.467874   \n",
       "min     10000.000000       0.000000              0.000000        0.000000   \n",
       "25%     30000.000000       0.000000              0.000000        0.000000   \n",
       "50%     60000.000000       2.000000              0.000000        1.000000   \n",
       "75%     70000.000000       3.000000              2.000000        1.000000   \n",
       "max    170000.000000       5.000000              5.000000        1.000000   \n",
       "\n",
       "       NumberCarsOwned  \n",
       "count     18484.000000  \n",
       "mean          1.502705  \n",
       "std           1.138394  \n",
       "min           0.000000  \n",
       "25%           1.000000  \n",
       "50%           2.000000  \n",
       "75%           2.000000  \n",
       "max           4.000000  "
      ]
     },
     "execution_count": 9,
     "metadata": {},
     "output_type": "execute_result"
    }
   ],
   "source": [
    "df.describe()"
   ]
  },
  {
   "cell_type": "markdown",
   "id": "64d6da64",
   "metadata": {},
   "source": [
    "**From the output of the 'describe' function executed above, the mean, standard deviation, minimum values, maximum values, and quartiles of the numerical variables could be idenified. Inferences could also be made from these values. For instance, the mean of YearlyIncome varable is 57,305.777 while the maximum value is 170,000. This suggest the presence of outliers in the variable.  "
   ]
  },
  {
   "cell_type": "code",
   "execution_count": 10,
   "id": "d4e52128",
   "metadata": {},
   "outputs": [
    {
     "data": {
      "text/html": [
       "<div>\n",
       "<style scoped>\n",
       "    .dataframe tbody tr th:only-of-type {\n",
       "        vertical-align: middle;\n",
       "    }\n",
       "\n",
       "    .dataframe tbody tr th {\n",
       "        vertical-align: top;\n",
       "    }\n",
       "\n",
       "    .dataframe thead th {\n",
       "        text-align: right;\n",
       "    }\n",
       "</style>\n",
       "<table border=\"1\" class=\"dataframe\">\n",
       "  <thead>\n",
       "    <tr style=\"text-align: right;\">\n",
       "      <th></th>\n",
       "      <th>MaritalStatus</th>\n",
       "      <th>Gender</th>\n",
       "      <th>EnglishEducation</th>\n",
       "      <th>EnglishOccupation</th>\n",
       "      <th>CommuteDistance</th>\n",
       "    </tr>\n",
       "  </thead>\n",
       "  <tbody>\n",
       "    <tr>\n",
       "      <th>count</th>\n",
       "      <td>18484</td>\n",
       "      <td>18484</td>\n",
       "      <td>18484</td>\n",
       "      <td>18484</td>\n",
       "      <td>18484</td>\n",
       "    </tr>\n",
       "    <tr>\n",
       "      <th>unique</th>\n",
       "      <td>2</td>\n",
       "      <td>2</td>\n",
       "      <td>5</td>\n",
       "      <td>5</td>\n",
       "      <td>5</td>\n",
       "    </tr>\n",
       "    <tr>\n",
       "      <th>top</th>\n",
       "      <td>M</td>\n",
       "      <td>M</td>\n",
       "      <td>Bachelors</td>\n",
       "      <td>Professional</td>\n",
       "      <td>0-1 Miles</td>\n",
       "    </tr>\n",
       "    <tr>\n",
       "      <th>freq</th>\n",
       "      <td>10011</td>\n",
       "      <td>9351</td>\n",
       "      <td>5356</td>\n",
       "      <td>5520</td>\n",
       "      <td>6310</td>\n",
       "    </tr>\n",
       "  </tbody>\n",
       "</table>\n",
       "</div>"
      ],
      "text/plain": [
       "       MaritalStatus Gender EnglishEducation EnglishOccupation CommuteDistance\n",
       "count          18484  18484            18484             18484           18484\n",
       "unique             2      2                5                 5               5\n",
       "top                M      M        Bachelors      Professional       0-1 Miles\n",
       "freq           10011   9351             5356              5520            6310"
      ]
     },
     "execution_count": 10,
     "metadata": {},
     "output_type": "execute_result"
    }
   ],
   "source": [
    "#statistics of non numerical data\n",
    "df.describe(include=[\"object\"])"
   ]
  },
  {
   "cell_type": "markdown",
   "id": "1aa76436",
   "metadata": {},
   "source": [
    "**The output of the 'describe' function for the categorical variables above show that Maritalstatus and Gender have 2 categories each with married and male being the most frequent categories each. EnglishEducation, EnglishOccupation and CommuteDistance each has 5 categories."
   ]
  },
  {
   "cell_type": "markdown",
   "id": "3dff009b",
   "metadata": {},
   "source": [
    "**EDA\n",
    "EDA shall be performed using Seaborn and matplotlib to visualize the distribution of some of the variables."
   ]
  },
  {
   "cell_type": "markdown",
   "id": "83272536",
   "metadata": {},
   "source": [
    "**Ploting the histogram of the variable: Yearly Income"
   ]
  },
  {
   "cell_type": "code",
   "execution_count": 11,
   "id": "c374a536",
   "metadata": {},
   "outputs": [
    {
     "data": {
      "text/plain": [
       "<seaborn.axisgrid.FacetGrid at 0x1bd235d2130>"
      ]
     },
     "execution_count": 11,
     "metadata": {},
     "output_type": "execute_result"
    },
    {
     "data": {
      "image/png": "[encoded data removed]",
      "text/plain": [
       "<Figure size 360x360 with 1 Axes>"
      ]
     },
     "metadata": {
      "needs_background": "light"
     },
     "output_type": "display_data"
    }
   ],
   "source": [
    "sns.displot(data=df, x=\"YearlyIncome\", bins=10)"
   ]
  },
  {
   "cell_type": "code",
   "execution_count": 12,
   "id": "8a7a534a",
   "metadata": {},
   "outputs": [
    {
     "data": {
      "text/plain": [
       "<AxesSubplot:xlabel='YearlyIncome'>"
      ]
     },
     "execution_count": 12,
     "metadata": {},
     "output_type": "execute_result"
    },
    {
     "data": {
      "image/png": "[encoded data removed]",
      "text/plain": [
       "<Figure size 432x288 with 1 Axes>"
      ]
     },
     "metadata": {
      "needs_background": "light"
     },
     "output_type": "display_data"
    }
   ],
   "source": [
    "#boxplot of yearly income\n",
    "sns.boxplot(x=df[\"YearlyIncome\"])"
   ]
  },
  {
   "cell_type": "markdown",
   "id": "5aded1d7",
   "metadata": {},
   "source": [
    "**The boxplot of yearly income shows outliers in the data"
   ]
  },
  {
   "cell_type": "code",
   "execution_count": 13,
   "id": "20d620ea",
   "metadata": {},
   "outputs": [
    {
     "data": {
      "text/plain": [
       "<AxesSubplot:xlabel='EnglishOccupation', ylabel='YearlyIncome'>"
      ]
     },
     "execution_count": 13,
     "metadata": {},
     "output_type": "execute_result"
    },
    {
     "data": {
      "image/png": "[encoded data removed]",
      "text/plain": [
       "<Figure size 432x288 with 1 Axes>"
      ]
     },
     "metadata": {
      "needs_background": "light"
     },
     "output_type": "display_data"
    }
   ],
   "source": [
    "sns.boxplot(data=df, y=\"YearlyIncome\",x=\"EnglishOccupation\")"
   ]
  },
  {
   "cell_type": "code",
   "execution_count": 14,
   "id": "aacccad7",
   "metadata": {
    "scrolled": true
   },
   "outputs": [
    {
     "data": {
      "text/plain": [
       "<seaborn.axisgrid.FacetGrid at 0x1bd2946d310>"
      ]
     },
     "execution_count": 14,
     "metadata": {},
     "output_type": "execute_result"
    },
    {
     "data": {
      "image/png": "[encoded data removed]",
      "text/plain": [
       "<Figure size 360x360 with 1 Axes>"
      ]
     },
     "metadata": {
      "needs_background": "light"
     },
     "output_type": "display_data"
    }
   ],
   "source": [
    "#ploting the histogram of Total Children\n",
    "sns.displot(data=df, x=\"TotalChildren\", bins=10)"
   ]
  },
  {
   "cell_type": "code",
   "execution_count": null,
   "id": "40b5681c",
   "metadata": {},
   "outputs": [],
   "source": [
    "**Ploting a histogram to show the distribution of yearly income between male and female gender"
   ]
  },
  {
   "cell_type": "code",
   "execution_count": 15,
   "id": "da7c0af8",
   "metadata": {},
   "outputs": [
    {
     "data": {
      "text/plain": [
       "<seaborn.axisgrid.FacetGrid at 0x1bd29557610>"
      ]
     },
     "execution_count": 15,
     "metadata": {},
     "output_type": "execute_result"
    },
    {
     "data": {
      "image/png": "[encoded data removed]",
      "text/plain": [
       "<Figure size 720x360 with 2 Axes>"
      ]
     },
     "metadata": {
      "needs_background": "light"
     },
     "output_type": "display_data"
    }
   ],
   "source": [
    "sns.displot(data=df, x='YearlyIncome',bins=10, col='Gender')"
   ]
  },
  {
   "cell_type": "code",
   "execution_count": 16,
   "id": "d8772c5c",
   "metadata": {},
   "outputs": [
    {
     "data": {
      "text/plain": [
       "<seaborn.axisgrid.FacetGrid at 0x1bd2946d250>"
      ]
     },
     "execution_count": 16,
     "metadata": {},
     "output_type": "execute_result"
    },
    {
     "data": {
      "image/png": "[encoded data removed]",
      "text/plain": [
       "<Figure size 360x360 with 1 Axes>"
      ]
     },
     "metadata": {
      "needs_background": "light"
     },
     "output_type": "display_data"
    }
   ],
   "source": [
    "sns.catplot(data=df, x= 'Gender', y='YearlyIncome', kind='boxen')"
   ]
  },
  {
   "cell_type": "markdown",
   "id": "de7292da",
   "metadata": {},
   "source": [
    "**Ploting a bar chart to show the various classes of English Education"
   ]
  },
  {
   "cell_type": "code",
   "execution_count": 17,
   "id": "5a32de3d",
   "metadata": {},
   "outputs": [
    {
     "name": "stderr",
     "output_type": "stream",
     "text": [
      "C:\\Users\\feloph\\anaconda3\\lib\\site-packages\\seaborn\\_decorators.py:36: FutureWarning: Pass the following variable as a keyword arg: x. From version 0.12, the only valid positional argument will be `data`, and passing other arguments without an explicit keyword will result in an error or misinterpretation.\n",
      "  warnings.warn(\n"
     ]
    },
    {
     "data": {
      "image/png": "[encoded data removed]",
      "text/plain": [
       "<Figure size 432x288 with 1 Axes>"
      ]
     },
     "metadata": {
      "needs_background": "light"
     },
     "output_type": "display_data"
    }
   ],
   "source": [
    "sns.countplot(df['EnglishEducation'], color='red')\n",
    "plt.xlabel(\"Type of English Education\")\n",
    "plt.xticks(rotation=45)\n",
    "plt.ylabel(\"Number of persons with English Education\")\n",
    "plt.show()"
   ]
  },
  {
   "cell_type": "markdown",
   "id": "03487fd7",
   "metadata": {},
   "source": [
    "**ploting a density plot of yearly income to show how it is distributed between those that own a house and those that do not own a house"
   ]
  },
  {
   "cell_type": "code",
   "execution_count": 18,
   "id": "f9448898",
   "metadata": {},
   "outputs": [
    {
     "data": {
      "text/plain": [
       "<seaborn.axisgrid.FacetGrid at 0x1bd2a6241c0>"
      ]
     },
     "execution_count": 18,
     "metadata": {},
     "output_type": "execute_result"
    },
    {
     "data": {
      "image/png": "[encoded data removed]",
      "text/plain": [
       "<Figure size 720x360 with 2 Axes>"
      ]
     },
     "metadata": {
      "needs_background": "light"
     },
     "output_type": "display_data"
    }
   ],
   "source": [
    "sns.displot(data=df, x='YearlyIncome', col='HouseOwnerFlag', kind='kde')"
   ]
  },
  {
   "cell_type": "markdown",
   "id": "4575c8a5",
   "metadata": {},
   "source": [
    "**Ploting a pair plot to show how the yearly income is distributed among all the quantitative variables"
   ]
  },
  {
   "cell_type": "code",
   "execution_count": 19,
   "id": "5ccb7a51",
   "metadata": {},
   "outputs": [
    {
     "data": {
      "text/plain": [
       "<seaborn.axisgrid.PairGrid at 0x1bd2a776fa0>"
      ]
     },
     "execution_count": 19,
     "metadata": {},
     "output_type": "execute_result"
    },
    {
     "data": {
      "image/png": "[encoded data removed]",
      "text/plain": [
       "<Figure size 812.875x720 with 20 Axes>"
      ]
     },
     "metadata": {
      "needs_background": "light"
     },
     "output_type": "display_data"
    }
   ],
   "source": [
    "sns.pairplot(df,hue='HouseOwnerFlag',palette='bwr')"
   ]
  },
  {
   "cell_type": "markdown",
   "id": "d6b71e44",
   "metadata": {},
   "source": [
    "**Analysis with data set 2.\n",
    "Dataset 2 shows details of various Call Centers and their performance.\n",
    "It is made up 120 call centers with the following 14 variables\n",
    "1. FactCallCenterID\n",
    "2. DateKey\n",
    "3. WageType\n",
    "4. Shift\n",
    "5. Level one operators\n",
    "6. Level two Operators\n",
    "7. Total operators\n",
    "8. Calls\n",
    "9. AutomaticResponses\n",
    "10. Orders\n",
    "11. Issues Raised\n",
    "12. AverageTimePerIssue\n",
    "13. ServiceGrade\n",
    "14. Date\n",
    "\n",
    "This data set will be used for Classification and prediction"
   ]
  },
  {
   "cell_type": "markdown",
   "id": "10fd2088",
   "metadata": {},
   "source": [
    "**Import the dataset and explore some features"
   ]
  },
  {
   "cell_type": "code",
   "execution_count": 20,
   "id": "62a9317c",
   "metadata": {},
   "outputs": [],
   "source": [
    "df1 = pd.read_csv(\"FactCallCenter.csv\")"
   ]
  },
  {
   "cell_type": "code",
   "execution_count": 21,
   "id": "180dee31",
   "metadata": {},
   "outputs": [
    {
     "data": {
      "text/html": [
       "<div>\n",
       "<style scoped>\n",
       "    .dataframe tbody tr th:only-of-type {\n",
       "        vertical-align: middle;\n",
       "    }\n",
       "\n",
       "    .dataframe tbody tr th {\n",
       "        vertical-align: top;\n",
       "    }\n",
       "\n",
       "    .dataframe thead th {\n",
       "        text-align: right;\n",
       "    }\n",
       "</style>\n",
       "<table border=\"1\" class=\"dataframe\">\n",
       "  <thead>\n",
       "    <tr style=\"text-align: right;\">\n",
       "      <th></th>\n",
       "      <th>FactCallCenterID</th>\n",
       "      <th>DateKey</th>\n",
       "      <th>WageType</th>\n",
       "      <th>Shift</th>\n",
       "      <th>LevelOneOperators</th>\n",
       "      <th>LevelTwoOperators</th>\n",
       "      <th>TotalOperators</th>\n",
       "      <th>Calls</th>\n",
       "      <th>AutomaticResponses</th>\n",
       "      <th>Orders</th>\n",
       "      <th>IssuesRaised</th>\n",
       "      <th>AverageTimePerIssue</th>\n",
       "      <th>ServiceGrade</th>\n",
       "      <th>Date</th>\n",
       "    </tr>\n",
       "  </thead>\n",
       "  <tbody>\n",
       "    <tr>\n",
       "      <th>0</th>\n",
       "      <td>1</td>\n",
       "      <td>20101101</td>\n",
       "      <td>weekday</td>\n",
       "      <td>AM</td>\n",
       "      <td>2</td>\n",
       "      <td>7</td>\n",
       "      <td>9</td>\n",
       "      <td>405</td>\n",
       "      <td>283</td>\n",
       "      <td>341</td>\n",
       "      <td>2</td>\n",
       "      <td>79</td>\n",
       "      <td>0.03</td>\n",
       "      <td>11/1/2010 0:00</td>\n",
       "    </tr>\n",
       "    <tr>\n",
       "      <th>1</th>\n",
       "      <td>2</td>\n",
       "      <td>20101101</td>\n",
       "      <td>weekday</td>\n",
       "      <td>PM1</td>\n",
       "      <td>2</td>\n",
       "      <td>10</td>\n",
       "      <td>12</td>\n",
       "      <td>389</td>\n",
       "      <td>256</td>\n",
       "      <td>251</td>\n",
       "      <td>1</td>\n",
       "      <td>94</td>\n",
       "      <td>0.12</td>\n",
       "      <td>11/1/2010 0:00</td>\n",
       "    </tr>\n",
       "    <tr>\n",
       "      <th>2</th>\n",
       "      <td>3</td>\n",
       "      <td>20101101</td>\n",
       "      <td>weekday</td>\n",
       "      <td>PM2</td>\n",
       "      <td>3</td>\n",
       "      <td>11</td>\n",
       "      <td>14</td>\n",
       "      <td>358</td>\n",
       "      <td>268</td>\n",
       "      <td>255</td>\n",
       "      <td>1</td>\n",
       "      <td>92</td>\n",
       "      <td>0.14</td>\n",
       "      <td>11/1/2010 0:00</td>\n",
       "    </tr>\n",
       "    <tr>\n",
       "      <th>3</th>\n",
       "      <td>4</td>\n",
       "      <td>20101101</td>\n",
       "      <td>weekday</td>\n",
       "      <td>midnight</td>\n",
       "      <td>1</td>\n",
       "      <td>4</td>\n",
       "      <td>5</td>\n",
       "      <td>219</td>\n",
       "      <td>140</td>\n",
       "      <td>162</td>\n",
       "      <td>2</td>\n",
       "      <td>73</td>\n",
       "      <td>0.08</td>\n",
       "      <td>11/1/2010 0:00</td>\n",
       "    </tr>\n",
       "    <tr>\n",
       "      <th>4</th>\n",
       "      <td>5</td>\n",
       "      <td>20101102</td>\n",
       "      <td>weekday</td>\n",
       "      <td>AM</td>\n",
       "      <td>2</td>\n",
       "      <td>8</td>\n",
       "      <td>10</td>\n",
       "      <td>264</td>\n",
       "      <td>170</td>\n",
       "      <td>189</td>\n",
       "      <td>1</td>\n",
       "      <td>58</td>\n",
       "      <td>0.09</td>\n",
       "      <td>11/2/2010 0:00</td>\n",
       "    </tr>\n",
       "  </tbody>\n",
       "</table>\n",
       "</div>"
      ],
      "text/plain": [
       "   FactCallCenterID   DateKey WageType     Shift  LevelOneOperators  \\\n",
       "0                 1  20101101  weekday        AM                  2   \n",
       "1                 2  20101101  weekday       PM1                  2   \n",
       "2                 3  20101101  weekday       PM2                  3   \n",
       "3                 4  20101101  weekday  midnight                  1   \n",
       "4                 5  20101102  weekday        AM                  2   \n",
       "\n",
       "   LevelTwoOperators  TotalOperators  Calls  AutomaticResponses  Orders  \\\n",
       "0                  7               9    405                 283     341   \n",
       "1                 10              12    389                 256     251   \n",
       "2                 11              14    358                 268     255   \n",
       "3                  4               5    219                 140     162   \n",
       "4                  8              10    264                 170     189   \n",
       "\n",
       "   IssuesRaised  AverageTimePerIssue  ServiceGrade            Date  \n",
       "0             2                   79          0.03  11/1/2010 0:00  \n",
       "1             1                   94          0.12  11/1/2010 0:00  \n",
       "2             1                   92          0.14  11/1/2010 0:00  \n",
       "3             2                   73          0.08  11/1/2010 0:00  \n",
       "4             1                   58          0.09  11/2/2010 0:00  "
      ]
     },
     "execution_count": 21,
     "metadata": {},
     "output_type": "execute_result"
    }
   ],
   "source": [
    "df1.head()"
   ]
  },
  {
   "cell_type": "code",
   "execution_count": 22,
   "id": "16f8d285",
   "metadata": {},
   "outputs": [
    {
     "name": "stdout",
     "output_type": "stream",
     "text": [
      "<class 'pandas.core.frame.DataFrame'>\n",
      "RangeIndex: 120 entries, 0 to 119\n",
      "Data columns (total 14 columns):\n",
      " #   Column               Non-Null Count  Dtype  \n",
      "---  ------               --------------  -----  \n",
      " 0   FactCallCenterID     120 non-null    int64  \n",
      " 1   DateKey              120 non-null    int64  \n",
      " 2   WageType             120 non-null    object \n",
      " 3   Shift                120 non-null    object \n",
      " 4   LevelOneOperators    120 non-null    int64  \n",
      " 5   LevelTwoOperators    120 non-null    int64  \n",
      " 6   TotalOperators       120 non-null    int64  \n",
      " 7   Calls                120 non-null    int64  \n",
      " 8   AutomaticResponses   120 non-null    int64  \n",
      " 9   Orders               120 non-null    int64  \n",
      " 10  IssuesRaised         120 non-null    int64  \n",
      " 11  AverageTimePerIssue  120 non-null    int64  \n",
      " 12  ServiceGrade         120 non-null    float64\n",
      " 13  Date                 120 non-null    object \n",
      "dtypes: float64(1), int64(10), object(3)\n",
      "memory usage: 13.2+ KB\n"
     ]
    }
   ],
   "source": [
    "df1.info()"
   ]
  },
  {
   "cell_type": "markdown",
   "id": "3fcf5a3e",
   "metadata": {},
   "source": [
    "The result of df.info() above shows there are 10 int64 type variables, 3 object type variables and 1 float type variable"
   ]
  },
  {
   "cell_type": "markdown",
   "id": "ea9f11a9",
   "metadata": {},
   "source": [
    "**Check for missing or null values"
   ]
  },
  {
   "cell_type": "code",
   "execution_count": 23,
   "id": "ed71ba8f",
   "metadata": {},
   "outputs": [
    {
     "data": {
      "text/plain": [
       "False"
      ]
     },
     "execution_count": 23,
     "metadata": {},
     "output_type": "execute_result"
    }
   ],
   "source": [
    "df1.isnull().values.any()"
   ]
  },
  {
   "cell_type": "markdown",
   "id": "afa13c3b",
   "metadata": {},
   "source": [
    "The output shows there are no null values"
   ]
  },
  {
   "cell_type": "markdown",
   "id": "5d03d0ff",
   "metadata": {},
   "source": [
    "**Some variables which will not be needed in the analyis shall be dropped"
   ]
  },
  {
   "cell_type": "code",
   "execution_count": 24,
   "id": "a170245c",
   "metadata": {},
   "outputs": [],
   "source": [
    "df1.drop([\"DateKey\", \"ServiceGrade\"],axis=1, inplace=True) "
   ]
  },
  {
   "cell_type": "code",
   "execution_count": 25,
   "id": "5d70267e",
   "metadata": {},
   "outputs": [
    {
     "name": "stdout",
     "output_type": "stream",
     "text": [
      "<class 'pandas.core.frame.DataFrame'>\n",
      "RangeIndex: 120 entries, 0 to 119\n",
      "Data columns (total 12 columns):\n",
      " #   Column               Non-Null Count  Dtype \n",
      "---  ------               --------------  ----- \n",
      " 0   FactCallCenterID     120 non-null    int64 \n",
      " 1   WageType             120 non-null    object\n",
      " 2   Shift                120 non-null    object\n",
      " 3   LevelOneOperators    120 non-null    int64 \n",
      " 4   LevelTwoOperators    120 non-null    int64 \n",
      " 5   TotalOperators       120 non-null    int64 \n",
      " 6   Calls                120 non-null    int64 \n",
      " 7   AutomaticResponses   120 non-null    int64 \n",
      " 8   Orders               120 non-null    int64 \n",
      " 9   IssuesRaised         120 non-null    int64 \n",
      " 10  AverageTimePerIssue  120 non-null    int64 \n",
      " 11  Date                 120 non-null    object\n",
      "dtypes: int64(9), object(3)\n",
      "memory usage: 11.4+ KB\n"
     ]
    }
   ],
   "source": [
    "df1.info()"
   ]
  },
  {
   "cell_type": "markdown",
   "id": "e084f76b",
   "metadata": {},
   "source": [
    "There are now 12 variables for the analysis that will follow. The number of observations is still 120. Further examination of the dataset shall be made to see the statistical contents with the .describe function."
   ]
  },
  {
   "cell_type": "code",
   "execution_count": 26,
   "id": "fcff37ab",
   "metadata": {},
   "outputs": [
    {
     "data": {
      "text/html": [
       "<div>\n",
       "<style scoped>\n",
       "    .dataframe tbody tr th:only-of-type {\n",
       "        vertical-align: middle;\n",
       "    }\n",
       "\n",
       "    .dataframe tbody tr th {\n",
       "        vertical-align: top;\n",
       "    }\n",
       "\n",
       "    .dataframe thead th {\n",
       "        text-align: right;\n",
       "    }\n",
       "</style>\n",
       "<table border=\"1\" class=\"dataframe\">\n",
       "  <thead>\n",
       "    <tr style=\"text-align: right;\">\n",
       "      <th></th>\n",
       "      <th>FactCallCenterID</th>\n",
       "      <th>LevelOneOperators</th>\n",
       "      <th>LevelTwoOperators</th>\n",
       "      <th>TotalOperators</th>\n",
       "      <th>Calls</th>\n",
       "      <th>AutomaticResponses</th>\n",
       "      <th>Orders</th>\n",
       "      <th>IssuesRaised</th>\n",
       "      <th>AverageTimePerIssue</th>\n",
       "    </tr>\n",
       "  </thead>\n",
       "  <tbody>\n",
       "    <tr>\n",
       "      <th>count</th>\n",
       "      <td>120.000000</td>\n",
       "      <td>120.000000</td>\n",
       "      <td>120.000000</td>\n",
       "      <td>120.000000</td>\n",
       "      <td>120.000000</td>\n",
       "      <td>120.000000</td>\n",
       "      <td>120.000000</td>\n",
       "      <td>120.000000</td>\n",
       "      <td>120.000000</td>\n",
       "    </tr>\n",
       "    <tr>\n",
       "      <th>mean</th>\n",
       "      <td>60.500000</td>\n",
       "      <td>2.141667</td>\n",
       "      <td>8.133333</td>\n",
       "      <td>10.691667</td>\n",
       "      <td>361.241667</td>\n",
       "      <td>248.616667</td>\n",
       "      <td>251.808333</td>\n",
       "      <td>1.350000</td>\n",
       "      <td>79.841667</td>\n",
       "    </tr>\n",
       "    <tr>\n",
       "      <th>std</th>\n",
       "      <td>34.785054</td>\n",
       "      <td>1.079183</td>\n",
       "      <td>2.810345</td>\n",
       "      <td>4.927706</td>\n",
       "      <td>145.924062</td>\n",
       "      <td>107.327832</td>\n",
       "      <td>104.412828</td>\n",
       "      <td>0.705917</td>\n",
       "      <td>13.763913</td>\n",
       "    </tr>\n",
       "    <tr>\n",
       "      <th>min</th>\n",
       "      <td>1.000000</td>\n",
       "      <td>0.000000</td>\n",
       "      <td>3.000000</td>\n",
       "      <td>0.000000</td>\n",
       "      <td>72.000000</td>\n",
       "      <td>58.000000</td>\n",
       "      <td>50.000000</td>\n",
       "      <td>0.000000</td>\n",
       "      <td>44.000000</td>\n",
       "    </tr>\n",
       "    <tr>\n",
       "      <th>25%</th>\n",
       "      <td>30.750000</td>\n",
       "      <td>1.000000</td>\n",
       "      <td>7.000000</td>\n",
       "      <td>9.000000</td>\n",
       "      <td>237.750000</td>\n",
       "      <td>166.000000</td>\n",
       "      <td>161.750000</td>\n",
       "      <td>1.000000</td>\n",
       "      <td>70.000000</td>\n",
       "    </tr>\n",
       "    <tr>\n",
       "      <th>50%</th>\n",
       "      <td>60.500000</td>\n",
       "      <td>2.000000</td>\n",
       "      <td>8.500000</td>\n",
       "      <td>12.000000</td>\n",
       "      <td>373.500000</td>\n",
       "      <td>245.000000</td>\n",
       "      <td>253.500000</td>\n",
       "      <td>1.000000</td>\n",
       "      <td>81.000000</td>\n",
       "    </tr>\n",
       "    <tr>\n",
       "      <th>75%</th>\n",
       "      <td>90.250000</td>\n",
       "      <td>3.000000</td>\n",
       "      <td>10.000000</td>\n",
       "      <td>13.000000</td>\n",
       "      <td>454.250000</td>\n",
       "      <td>329.000000</td>\n",
       "      <td>315.000000</td>\n",
       "      <td>2.000000</td>\n",
       "      <td>88.250000</td>\n",
       "    </tr>\n",
       "    <tr>\n",
       "      <th>max</th>\n",
       "      <td>120.000000</td>\n",
       "      <td>4.000000</td>\n",
       "      <td>14.000000</td>\n",
       "      <td>44.000000</td>\n",
       "      <td>699.000000</td>\n",
       "      <td>513.000000</td>\n",
       "      <td>539.000000</td>\n",
       "      <td>3.000000</td>\n",
       "      <td>120.000000</td>\n",
       "    </tr>\n",
       "  </tbody>\n",
       "</table>\n",
       "</div>"
      ],
      "text/plain": [
       "       FactCallCenterID  LevelOneOperators  LevelTwoOperators  TotalOperators  \\\n",
       "count        120.000000         120.000000         120.000000      120.000000   \n",
       "mean          60.500000           2.141667           8.133333       10.691667   \n",
       "std           34.785054           1.079183           2.810345        4.927706   \n",
       "min            1.000000           0.000000           3.000000        0.000000   \n",
       "25%           30.750000           1.000000           7.000000        9.000000   \n",
       "50%           60.500000           2.000000           8.500000       12.000000   \n",
       "75%           90.250000           3.000000          10.000000       13.000000   \n",
       "max          120.000000           4.000000          14.000000       44.000000   \n",
       "\n",
       "            Calls  AutomaticResponses      Orders  IssuesRaised  \\\n",
       "count  120.000000          120.000000  120.000000    120.000000   \n",
       "mean   361.241667          248.616667  251.808333      1.350000   \n",
       "std    145.924062          107.327832  104.412828      0.705917   \n",
       "min     72.000000           58.000000   50.000000      0.000000   \n",
       "25%    237.750000          166.000000  161.750000      1.000000   \n",
       "50%    373.500000          245.000000  253.500000      1.000000   \n",
       "75%    454.250000          329.000000  315.000000      2.000000   \n",
       "max    699.000000          513.000000  539.000000      3.000000   \n",
       "\n",
       "       AverageTimePerIssue  \n",
       "count           120.000000  \n",
       "mean             79.841667  \n",
       "std              13.763913  \n",
       "min              44.000000  \n",
       "25%              70.000000  \n",
       "50%              81.000000  \n",
       "75%              88.250000  \n",
       "max             120.000000  "
      ]
     },
     "execution_count": 26,
     "metadata": {},
     "output_type": "execute_result"
    }
   ],
   "source": [
    "df1.describe()"
   ]
  },
  {
   "cell_type": "markdown",
   "id": "e85416b6",
   "metadata": {},
   "source": [
    "**All the object type variables shall be converted to int64 type so that they could be used for the classification and prediction that will follow."
   ]
  },
  {
   "cell_type": "markdown",
   "id": "01fafe26",
   "metadata": {},
   "source": [
    "**LOGISTIC REGESSION\n",
    "Logistics regression will be used to do classification of the dataset.\n",
    "\n",
    "The dependent variable here is WageType. From the data set, the wage is of two categories: weekday and holiday. However, the variable type which is 'object' shall be chaged to binary using the dummy technique (pd.get_dummies)"
   ]
  },
  {
   "cell_type": "code",
   "execution_count": 27,
   "id": "d472a167",
   "metadata": {},
   "outputs": [
    {
     "data": {
      "text/html": [
       "<div>\n",
       "<style scoped>\n",
       "    .dataframe tbody tr th:only-of-type {\n",
       "        vertical-align: middle;\n",
       "    }\n",
       "\n",
       "    .dataframe tbody tr th {\n",
       "        vertical-align: top;\n",
       "    }\n",
       "\n",
       "    .dataframe thead th {\n",
       "        text-align: right;\n",
       "    }\n",
       "</style>\n",
       "<table border=\"1\" class=\"dataframe\">\n",
       "  <thead>\n",
       "    <tr style=\"text-align: right;\">\n",
       "      <th></th>\n",
       "      <th>holiday</th>\n",
       "      <th>weekday</th>\n",
       "    </tr>\n",
       "  </thead>\n",
       "  <tbody>\n",
       "    <tr>\n",
       "      <th>0</th>\n",
       "      <td>0</td>\n",
       "      <td>1</td>\n",
       "    </tr>\n",
       "    <tr>\n",
       "      <th>1</th>\n",
       "      <td>0</td>\n",
       "      <td>1</td>\n",
       "    </tr>\n",
       "    <tr>\n",
       "      <th>2</th>\n",
       "      <td>0</td>\n",
       "      <td>1</td>\n",
       "    </tr>\n",
       "    <tr>\n",
       "      <th>3</th>\n",
       "      <td>0</td>\n",
       "      <td>1</td>\n",
       "    </tr>\n",
       "    <tr>\n",
       "      <th>4</th>\n",
       "      <td>0</td>\n",
       "      <td>1</td>\n",
       "    </tr>\n",
       "  </tbody>\n",
       "</table>\n",
       "</div>"
      ],
      "text/plain": [
       "   holiday  weekday\n",
       "0        0        1\n",
       "1        0        1\n",
       "2        0        1\n",
       "3        0        1\n",
       "4        0        1"
      ]
     },
     "execution_count": 27,
     "metadata": {},
     "output_type": "execute_result"
    }
   ],
   "source": [
    "#converting WageType variables to dummy.\n",
    "df1_1=pd.get_dummies(df1[\"WageType\"])\n",
    "df1_1.head()"
   ]
  },
  {
   "cell_type": "markdown",
   "id": "f8d95465",
   "metadata": {},
   "source": [
    "**The dummy variables for holiday and weekday shall be added to the original dataframe by concatnating df1_1 with df1. The column containing WageType as categorical shall be dropped, holiday shall be dropped while weekday shall be renamed \"wagetype\" with values 0 and 1. The variables Shift and Date shall also be dropped. The new dataframe is now named df2.\n",
    "** For the variable 'Wagetype' which has been converted to binary, 1 shall represent weekday while 0 shall represent holiday."
   ]
  },
  {
   "cell_type": "code",
   "execution_count": 28,
   "id": "072b6a56",
   "metadata": {},
   "outputs": [
    {
     "name": "stdout",
     "output_type": "stream",
     "text": [
      "     FactCallCenterID  LevelOneOperators  LevelTwoOperators  TotalOperators  \\\n",
      "0                   1                  2                  7               9   \n",
      "1                   2                  2                 10              12   \n",
      "2                   3                  3                 11              14   \n",
      "3                   4                  1                  4               5   \n",
      "4                   5                  2                  8              10   \n",
      "..                ...                ...                ...             ...   \n",
      "115               116                  1                  4               5   \n",
      "116               117                  2                  8              10   \n",
      "117               118                  3                 10              16   \n",
      "118               119                  3                 12              15   \n",
      "119               120                  1                  4               0   \n",
      "\n",
      "     Calls  AutomaticResponses  Orders  IssuesRaised  AverageTimePerIssue  \\\n",
      "0      405                 283     341             2                   79   \n",
      "1      389                 256     251             1                   94   \n",
      "2      358                 268     255             1                   92   \n",
      "3      219                 140     162             2                   73   \n",
      "4      264                 170     189             1                   58   \n",
      "..     ...                 ...     ...           ...                  ...   \n",
      "115    231                 137     161             2                   52   \n",
      "116    380                 218     280             2                   79   \n",
      "117    461                 391     375             0                   79   \n",
      "118    403                 221     243             2                   87   \n",
      "119    193                 115     125             0                   89   \n",
      "\n",
      "     Wagetype  \n",
      "0           1  \n",
      "1           1  \n",
      "2           1  \n",
      "3           1  \n",
      "4           1  \n",
      "..        ...  \n",
      "115         1  \n",
      "116         1  \n",
      "117         1  \n",
      "118         1  \n",
      "119         1  \n",
      "\n",
      "[120 rows x 10 columns]\n"
     ]
    }
   ],
   "source": [
    "new_df = pd.concat((df1,df1_1), axis=1)\n",
    "new_df = new_df.drop([\"WageType\"], axis=1)\n",
    "new_df = new_df.drop([\"Shift\"], axis=1)\n",
    "new_df = new_df.drop([\"Date\"], axis=1)\n",
    "df_two = new_df.drop([\"holiday\"], axis=1,inplace=True)\n",
    "df2 = new_df.rename(columns={\"weekday\": \"Wagetype\"})\n",
    "print(df2)"
   ]
  },
  {
   "cell_type": "code",
   "execution_count": 29,
   "id": "86b0ce16",
   "metadata": {},
   "outputs": [
    {
     "name": "stdout",
     "output_type": "stream",
     "text": [
      "<class 'pandas.core.frame.DataFrame'>\n",
      "RangeIndex: 120 entries, 0 to 119\n",
      "Data columns (total 10 columns):\n",
      " #   Column               Non-Null Count  Dtype\n",
      "---  ------               --------------  -----\n",
      " 0   FactCallCenterID     120 non-null    int64\n",
      " 1   LevelOneOperators    120 non-null    int64\n",
      " 2   LevelTwoOperators    120 non-null    int64\n",
      " 3   TotalOperators       120 non-null    int64\n",
      " 4   Calls                120 non-null    int64\n",
      " 5   AutomaticResponses   120 non-null    int64\n",
      " 6   Orders               120 non-null    int64\n",
      " 7   IssuesRaised         120 non-null    int64\n",
      " 8   AverageTimePerIssue  120 non-null    int64\n",
      " 9   Wagetype             120 non-null    uint8\n",
      "dtypes: int64(9), uint8(1)\n",
      "memory usage: 8.7 KB\n"
     ]
    }
   ],
   "source": [
    "df2.info()"
   ]
  },
  {
   "cell_type": "markdown",
   "id": "1ea07443",
   "metadata": {},
   "source": [
    "**Let us see all the values of WageType which have been transofrmed to binary as the dependent variable in the Logistic regresssion."
   ]
  },
  {
   "cell_type": "code",
   "execution_count": 30,
   "id": "57a2b857",
   "metadata": {},
   "outputs": [
    {
     "name": "stdout",
     "output_type": "stream",
     "text": [
      "[1, 1, 1, 1, 1, 1, 1, 1, 0, 0, 0, 0, 0, 0, 0, 0, 0, 0, 0, 0, 1, 1, 1, 1, 1, 1, 1, 1, 1, 1, 1, 1, 1, 1, 1, 1, 1, 1, 1, 1, 0, 0, 0, 0, 0, 0, 0, 0, 1, 1, 1, 1, 1, 1, 1, 1, 1, 1, 1, 1, 1, 1, 1, 1, 1, 1, 1, 1, 0, 0, 0, 0, 0, 0, 0, 0, 1, 1, 1, 1, 1, 1, 1, 1, 1, 1, 1, 1, 0, 0, 0, 0, 1, 1, 1, 1, 0, 0, 0, 0, 0, 0, 0, 0, 1, 1, 1, 1, 1, 1, 1, 1, 1, 1, 1, 1, 1, 1, 1, 1]\n"
     ]
    }
   ],
   "source": [
    "print(df2['Wagetype'].tolist())"
   ]
  },
  {
   "cell_type": "markdown",
   "id": "9555a0d2",
   "metadata": {},
   "source": [
    "**Some Visualizations"
   ]
  },
  {
   "cell_type": "code",
   "execution_count": 31,
   "id": "d8d7cb63",
   "metadata": {},
   "outputs": [
    {
     "data": {
      "text/plain": [
       "<AxesSubplot:xlabel='Wagetype', ylabel='AverageTimePerIssue'>"
      ]
     },
     "execution_count": 31,
     "metadata": {},
     "output_type": "execute_result"
    },
    {
     "data": {
      "image/png": "[encoded data removed]",
      "text/plain": [
       "<Figure size 432x288 with 1 Axes>"
      ]
     },
     "metadata": {
      "needs_background": "light"
     },
     "output_type": "display_data"
    }
   ],
   "source": [
    "#Boxplot of the dependent variable Wagetype and AverageTimePerIssue\n",
    "sns.boxplot(data=df2, x=\"Wagetype\",y=\"AverageTimePerIssue\")"
   ]
  },
  {
   "cell_type": "markdown",
   "id": "510cc336",
   "metadata": {},
   "source": [
    "**Let us check if a linear relationship exist between the dependent variable and some independent variable using a scatterplot"
   ]
  },
  {
   "cell_type": "code",
   "execution_count": 32,
   "id": "8645c0f8",
   "metadata": {},
   "outputs": [
    {
     "data": {
      "image/png": "[encoded data removed]",
      "text/plain": [
       "<Figure size 378x252 with 1 Axes>"
      ]
     },
     "metadata": {
      "needs_background": "light"
     },
     "output_type": "display_data"
    }
   ],
   "source": [
    "ax = sns.relplot(kind='scatter', x='AverageTimePerIssue', y='Wagetype', data=df2, height=3.5, aspect=1.5)"
   ]
  },
  {
   "cell_type": "code",
   "execution_count": 33,
   "id": "b04b232a",
   "metadata": {},
   "outputs": [
    {
     "data": {
      "image/png": "[encoded data removed]",
      "text/plain": [
       "<Figure size 378x252 with 1 Axes>"
      ]
     },
     "metadata": {
      "needs_background": "light"
     },
     "output_type": "display_data"
    }
   ],
   "source": [
    "ax = sns.relplot(kind='scatter', x='Calls', y='Wagetype', data=df2, height=3.5, aspect=1.5)"
   ]
  },
  {
   "cell_type": "code",
   "execution_count": 34,
   "id": "c6ef6f57",
   "metadata": {},
   "outputs": [
    {
     "data": {
      "image/png": "[encoded data removed]",
      "text/plain": [
       "<Figure size 378x252 with 1 Axes>"
      ]
     },
     "metadata": {
      "needs_background": "light"
     },
     "output_type": "display_data"
    }
   ],
   "source": [
    "ax = sns.relplot(kind='scatter', x='AutomaticResponses', y='Wagetype', data=df2, height=3.5, aspect=1.5)"
   ]
  },
  {
   "cell_type": "markdown",
   "id": "467eb921",
   "metadata": {},
   "source": [
    "** From the above 3 scatter plots, it is clear the relationship in non-linear. Hence, Logistic regression is appropriate."
   ]
  },
  {
   "cell_type": "markdown",
   "id": "5e701321",
   "metadata": {},
   "source": [
    "**The Libraries required for Logistic Regression shall be imported."
   ]
  },
  {
   "cell_type": "code",
   "execution_count": 35,
   "id": "6d8145be",
   "metadata": {},
   "outputs": [],
   "source": [
    "from sklearn.linear_model import LogisticRegression\n",
    "from sklearn.model_selection import train_test_split\n",
    "from sklearn import metrics"
   ]
  },
  {
   "cell_type": "markdown",
   "id": "4bd5c1f5",
   "metadata": {},
   "source": [
    "**Split the data into training set and testing set using train_test_split"
   ]
  },
  {
   "cell_type": "code",
   "execution_count": 36,
   "id": "4ad8bd4d",
   "metadata": {},
   "outputs": [],
   "source": [
    "X_train, X_test, y_train, y_test = train_test_split(df2.drop('Wagetype',axis=1), \n",
    "                                                    df2['Wagetype'], test_size=0.27, random_state=1000)"
   ]
  },
  {
   "cell_type": "markdown",
   "id": "1695e783",
   "metadata": {},
   "source": [
    "**Fit the Model"
   ]
  },
  {
   "cell_type": "code",
   "execution_count": 37,
   "id": "98ffe2cb",
   "metadata": {},
   "outputs": [
    {
     "data": {
      "text/plain": [
       "LogisticRegression(max_iter=1000)"
      ]
     },
     "execution_count": 37,
     "metadata": {},
     "output_type": "execute_result"
    }
   ],
   "source": [
    "logmodel = LogisticRegression(solver='lbfgs', max_iter=1000)\n",
    "logmodel.fit(X_train,y_train)\n"
   ]
  },
  {
   "cell_type": "markdown",
   "id": "0194b5db",
   "metadata": {},
   "source": [
    "**Print the logistic regression coefficients"
   ]
  },
  {
   "cell_type": "code",
   "execution_count": 38,
   "id": "af5f13ca",
   "metadata": {},
   "outputs": [
    {
     "name": "stdout",
     "output_type": "stream",
     "text": [
      "[1.08701678] [[ 0.00119254 -0.04732759 -0.18883395  0.06613921 -0.00527665  0.00449135\n",
      "   0.00666454 -0.24759306 -0.00397519]]\n"
     ]
    }
   ],
   "source": [
    "inter = logmodel.intercept_\n",
    "coef = logmodel.coef_\n",
    "print(inter,coef)"
   ]
  },
  {
   "cell_type": "markdown",
   "id": "a799aad1",
   "metadata": {},
   "source": [
    "**Make prediction with the model"
   ]
  },
  {
   "cell_type": "code",
   "execution_count": 39,
   "id": "38446df7",
   "metadata": {},
   "outputs": [
    {
     "name": "stdout",
     "output_type": "stream",
     "text": [
      "[1 1 1 1 0 1 1 1 0 1 1 0 1 1 1 1 1 0 1 1 1 1 1 1 1 1 1 1 1 1 1 1 0]\n"
     ]
    }
   ],
   "source": [
    "predictions = logmodel.predict(X_test)\n",
    "print(predictions)"
   ]
  },
  {
   "cell_type": "markdown",
   "id": "b28e5ef8",
   "metadata": {},
   "source": [
    "**Testing the accuracy of the prediction using the score method."
   ]
  },
  {
   "cell_type": "code",
   "execution_count": 40,
   "id": "cbc8ce22",
   "metadata": {},
   "outputs": [
    {
     "name": "stdout",
     "output_type": "stream",
     "text": [
      "0.7272727272727273\n"
     ]
    }
   ],
   "source": [
    "score=logmodel.score(X_test,y_test)\n",
    "print(score)"
   ]
  },
  {
   "cell_type": "markdown",
   "id": "2f4a06a7",
   "metadata": {},
   "source": [
    "The output shows that the model has 73% accuracy. This means the model performed well."
   ]
  },
  {
   "cell_type": "markdown",
   "id": "31145256",
   "metadata": {},
   "source": [
    "**Print the Classification Report"
   ]
  },
  {
   "cell_type": "code",
   "execution_count": 41,
   "id": "103071a3",
   "metadata": {},
   "outputs": [
    {
     "name": "stdout",
     "output_type": "stream",
     "text": [
      "              precision    recall  f1-score   support\n",
      "\n",
      "           0       0.20      0.17      0.18         6\n",
      "           1       0.82      0.85      0.84        27\n",
      "\n",
      "    accuracy                           0.73        33\n",
      "   macro avg       0.51      0.51      0.51        33\n",
      "weighted avg       0.71      0.73      0.72        33\n",
      "\n"
     ]
    }
   ],
   "source": [
    "from sklearn.metrics import classification_report\n",
    "print(classification_report(y_test,predictions))"
   ]
  },
  {
   "cell_type": "markdown",
   "id": "22f65e72",
   "metadata": {},
   "source": [
    "**Print the Confusion Matrix"
   ]
  },
  {
   "cell_type": "code",
   "execution_count": 42,
   "id": "768b3944",
   "metadata": {},
   "outputs": [
    {
     "name": "stdout",
     "output_type": "stream",
     "text": [
      "[[ 1  5]\n",
      " [ 4 23]]\n"
     ]
    }
   ],
   "source": [
    "from sklearn.metrics import confusion_matrix\n",
    "from sklearn import metrics\n",
    "cm = metrics.confusion_matrix(y_test, predictions)\n",
    "print(cm)"
   ]
  },
  {
   "cell_type": "markdown",
   "id": "0a680b47",
   "metadata": {},
   "source": [
    "**Linear Regression 1.\n",
    "\n",
    "From the dataset2 (df2) a multiple linear regression model shall be built.  The purpose is to investigate factors that affect the number of calls that come into the call center per day. \n",
    "\n",
    "In this model, the dependent variable is \"Calls\" while the independent variables are:\n",
    "1. LevelOneOperators\n",
    "2. LevelTwoOperators\n",
    "3. AverageTimePerIssue    \n",
    "4. AutomaticResponses\n",
    "5. Orders  \n",
    "6. IssuesRaised\n",
    "7. Wagetype \n",
    "\n",
    "**The model shall be used to make prediction regarding the number of calls expected per day in the call center. This will help the business owner make adequate preparation so as to improve customer satisfaction and business growth.\n"
   ]
  },
  {
   "cell_type": "markdown",
   "id": "f2d11856",
   "metadata": {},
   "source": [
    "**Some Visualizations "
   ]
  },
  {
   "cell_type": "code",
   "execution_count": 43,
   "id": "5fb47c49",
   "metadata": {},
   "outputs": [
    {
     "data": {
      "text/plain": [
       "<seaborn.axisgrid.FacetGrid at 0x1bd2d82dca0>"
      ]
     },
     "execution_count": 43,
     "metadata": {},
     "output_type": "execute_result"
    },
    {
     "data": {
      "image/png": "[encoded data removed]",
      "text/plain": [
       "<Figure size 360x360 with 1 Axes>"
      ]
     },
     "metadata": {
      "needs_background": "light"
     },
     "output_type": "display_data"
    }
   ],
   "source": [
    "#Histogram of the dependent variable\n",
    "sns.displot(data=df2, x=\"Calls\", rug=True, kde=True, kind='hist')"
   ]
  },
  {
   "cell_type": "code",
   "execution_count": 44,
   "id": "f21b3604",
   "metadata": {},
   "outputs": [
    {
     "data": {
      "text/plain": [
       "<seaborn.axisgrid.FacetGrid at 0x1bd2e161220>"
      ]
     },
     "execution_count": 44,
     "metadata": {},
     "output_type": "execute_result"
    },
    {
     "data": {
      "image/png": "[encoded data removed]",
      "text/plain": [
       "<Figure size 360x360 with 1 Axes>"
      ]
     },
     "metadata": {
      "needs_background": "light"
     },
     "output_type": "display_data"
    }
   ],
   "source": [
    "#Histogram of an independent variable\n",
    "sns.displot(data=df2, x=\"AverageTimePerIssue\", bins=10)"
   ]
  },
  {
   "cell_type": "markdown",
   "id": "bf33681e",
   "metadata": {},
   "source": [
    "**Let us check if a linear relationship exist between the dependent variable and some independent variable using a scatterplot. This will enable some inference whether a linear relationship exists to support the use of regression."
   ]
  },
  {
   "cell_type": "code",
   "execution_count": 45,
   "id": "ebd9923a",
   "metadata": {},
   "outputs": [
    {
     "data": {
      "image/png": "[encoded data removed]",
      "text/plain": [
       "<Figure size 432x288 with 1 Axes>"
      ]
     },
     "metadata": {
      "needs_background": "light"
     },
     "output_type": "display_data"
    }
   ],
   "source": [
    "sns.regplot(x=\"TotalOperators\",\n",
    "            y=\"Calls\", \n",
    "            data=df2);\n",
    "\n"
   ]
  },
  {
   "cell_type": "code",
   "execution_count": 46,
   "id": "c508476c",
   "metadata": {},
   "outputs": [
    {
     "data": {
      "image/png": "[encoded data removed]",
      "text/plain": [
       "<Figure size 432x288 with 1 Axes>"
      ]
     },
     "metadata": {
      "needs_background": "light"
     },
     "output_type": "display_data"
    }
   ],
   "source": [
    "sns.scatterplot(x=\"AverageTimePerIssue\",\n",
    "            y=\"Calls\", \n",
    "            data=df2, hue='Wagetype');"
   ]
  },
  {
   "cell_type": "code",
   "execution_count": 47,
   "id": "992b2d03",
   "metadata": {},
   "outputs": [
    {
     "data": {
      "image/png": "[encoded data removed]",
      "text/plain": [
       "<Figure size 432x288 with 1 Axes>"
      ]
     },
     "metadata": {
      "needs_background": "light"
     },
     "output_type": "display_data"
    }
   ],
   "source": [
    "sns.regplot(x=\"AutomaticResponses\",\n",
    "            y=\"Calls\", \n",
    "            data=df2);"
   ]
  },
  {
   "cell_type": "code",
   "execution_count": 48,
   "id": "a676f0f8",
   "metadata": {},
   "outputs": [
    {
     "data": {
      "image/png": "[encoded data removed]",
      "text/plain": [
       "<Figure size 432x288 with 1 Axes>"
      ]
     },
     "metadata": {
      "needs_background": "light"
     },
     "output_type": "display_data"
    }
   ],
   "source": [
    "sns.regplot(x=\"Orders\",\n",
    "            y=\"Calls\", \n",
    "            data=df2);"
   ]
  },
  {
   "cell_type": "markdown",
   "id": "6b82ee2a",
   "metadata": {},
   "source": [
    "**From the scatterplots above, the dependent variables TotalOperators,AutomaticResponses and Orders show strong linear correlation with the dependent variable. However, AverageTimePerIssue shows a weak type. In general, the visualization promises a good outcome for a Linear regression model."
   ]
  },
  {
   "cell_type": "markdown",
   "id": "5f5737d7",
   "metadata": {},
   "source": [
    "**Fitting the regression model"
   ]
  },
  {
   "cell_type": "code",
   "execution_count": 49,
   "id": "aa9051b0",
   "metadata": {},
   "outputs": [],
   "source": [
    "X = df2[['TotalOperators','AverageTimePerIssue','AutomaticResponses','Orders','IssuesRaised',]]\n",
    "y = df2['Calls']"
   ]
  },
  {
   "cell_type": "code",
   "execution_count": 50,
   "id": "c5f24b17",
   "metadata": {},
   "outputs": [],
   "source": [
    "#Splitting the dataset\n",
    "from sklearn.model_selection import train_test_split"
   ]
  },
  {
   "cell_type": "code",
   "execution_count": 51,
   "id": "d33aa80a",
   "metadata": {},
   "outputs": [],
   "source": [
    "X_train, X_test, y_train, y_test = train_test_split(X, y, test_size=0.30, random_state=25)"
   ]
  },
  {
   "cell_type": "code",
   "execution_count": 52,
   "id": "16cd219f",
   "metadata": {},
   "outputs": [
    {
     "data": {
      "text/plain": [
       "LinearRegression()"
      ]
     },
     "execution_count": 52,
     "metadata": {},
     "output_type": "execute_result"
    }
   ],
   "source": [
    "#Fitting the Multiple Linear Regression model\n",
    "from sklearn.linear_model import LinearRegression\n",
    "LREG_Model = LinearRegression()  \n",
    "LREG_Model.fit(X_train, y_train)"
   ]
  },
  {
   "cell_type": "code",
   "execution_count": 53,
   "id": "a6a5ed67",
   "metadata": {},
   "outputs": [
    {
     "name": "stdout",
     "output_type": "stream",
     "text": [
      "Intercept:  -22.947962568134983\n",
      "Coefficients:\n"
     ]
    },
    {
     "data": {
      "text/plain": [
       "[('TotalOperators', 2.4052774091512172),\n",
       " ('AverageTimePerIssue', 0.22912789754449464),\n",
       " ('AutomaticResponses', 0.1631321875038187),\n",
       " ('Orders', 1.1651543432684206),\n",
       " ('IssuesRaised', 5.692762877581534)]"
      ]
     },
     "execution_count": 53,
     "metadata": {},
     "output_type": "execute_result"
    }
   ],
   "source": [
    "#Intercept and Coefficient\n",
    "print(\"Intercept: \", LREG_Model.intercept_)\n",
    "print(\"Coefficients:\")\n",
    "list(zip(X, LREG_Model.coef_))"
   ]
  },
  {
   "cell_type": "code",
   "execution_count": 54,
   "id": "d78cc73e",
   "metadata": {},
   "outputs": [
    {
     "name": "stdout",
     "output_type": "stream",
     "text": [
      "Prediction for test set: [462.31939446 402.84690546 390.6747584  545.7918788  307.6003726\n",
      " 181.97373606 320.96561024 451.93969275 614.05717925 359.94528229\n",
      " 385.99622113 559.21084191 421.44292035 226.3125486  169.91950431\n",
      " 269.37580661 534.35514392 471.67020389 239.61135092 620.27458447\n",
      " 281.65296011 475.35359595 371.41948137 424.73146905 225.53852273\n",
      " 126.99137227 420.39808593 167.42922079 379.634639   622.32313028\n",
      " 299.90951069 284.91027491 128.66170107 497.83299147 358.50189046\n",
      " 306.49907036]\n"
     ]
    }
   ],
   "source": [
    "#Prediction of test set\n",
    "y_pred_LREG_Model= LREG_Model.predict(X_test)\n",
    "#Predicted values\n",
    "print(\"Prediction for test set: {}\".format(y_pred_LREG_Model))"
   ]
  },
  {
   "cell_type": "code",
   "execution_count": 55,
   "id": "f3b0bf94",
   "metadata": {},
   "outputs": [
    {
     "data": {
      "text/html": [
       "<div>\n",
       "<style scoped>\n",
       "    .dataframe tbody tr th:only-of-type {\n",
       "        vertical-align: middle;\n",
       "    }\n",
       "\n",
       "    .dataframe tbody tr th {\n",
       "        vertical-align: top;\n",
       "    }\n",
       "\n",
       "    .dataframe thead th {\n",
       "        text-align: right;\n",
       "    }\n",
       "</style>\n",
       "<table border=\"1\" class=\"dataframe\">\n",
       "  <thead>\n",
       "    <tr style=\"text-align: right;\">\n",
       "      <th></th>\n",
       "      <th>Actual value</th>\n",
       "      <th>Predicted value</th>\n",
       "    </tr>\n",
       "  </thead>\n",
       "  <tbody>\n",
       "    <tr>\n",
       "      <th>21</th>\n",
       "      <td>476</td>\n",
       "      <td>462.319394</td>\n",
       "    </tr>\n",
       "    <tr>\n",
       "      <th>41</th>\n",
       "      <td>382</td>\n",
       "      <td>402.846905</td>\n",
       "    </tr>\n",
       "    <tr>\n",
       "      <th>77</th>\n",
       "      <td>396</td>\n",
       "      <td>390.674758</td>\n",
       "    </tr>\n",
       "    <tr>\n",
       "      <th>34</th>\n",
       "      <td>532</td>\n",
       "      <td>545.791879</td>\n",
       "    </tr>\n",
       "    <tr>\n",
       "      <th>33</th>\n",
       "      <td>308</td>\n",
       "      <td>307.600373</td>\n",
       "    </tr>\n",
       "  </tbody>\n",
       "</table>\n",
       "</div>"
      ],
      "text/plain": [
       "    Actual value  Predicted value\n",
       "21           476       462.319394\n",
       "41           382       402.846905\n",
       "77           396       390.674758\n",
       "34           532       545.791879\n",
       "33           308       307.600373"
      ]
     },
     "execution_count": 55,
     "metadata": {},
     "output_type": "execute_result"
    }
   ],
   "source": [
    "#Actual value and the predicted value\n",
    "LR_Model_diff = pd.DataFrame({'Actual value': y_test, 'Predicted value': y_pred_LREG_Model})\n",
    "LR_Model_diff.head()"
   ]
  },
  {
   "cell_type": "code",
   "execution_count": 56,
   "id": "5ab4b543",
   "metadata": {},
   "outputs": [
    {
     "name": "stdout",
     "output_type": "stream",
     "text": [
      "R squared: 0.96\n",
      "Mean Absolute Error: 22.38815599413705\n",
      "Mean Square Error: 1029.1990495963566\n",
      "Root Mean Square Error: 32.081132299162334\n"
     ]
    }
   ],
   "source": [
    "#Model Evaluation\n",
    "from sklearn import metrics\n",
    "meanAbErr = metrics.mean_absolute_error(y_test, y_pred_LREG_Model)\n",
    "meanSqErr = metrics.mean_squared_error(y_test, y_pred_LREG_Model)\n",
    "rootMeanSqErr = np.sqrt(metrics.mean_squared_error(y_test, y_pred_LREG_Model))\n",
    "print('R squared: {:.2f}'.format(LREG_Model.score(X,y)))\n",
    "print('Mean Absolute Error:', meanAbErr)\n",
    "print('Mean Square Error:', meanSqErr)\n",
    "print('Root Mean Square Error:', rootMeanSqErr)"
   ]
  },
  {
   "cell_type": "markdown",
   "id": "5b519de3",
   "metadata": {},
   "source": [
    "**The result from the multiple linear regression above shows impressive outcome with R-Squared of 96%. This shows that the model has a good fit and high predictive ability."
   ]
  },
  {
   "cell_type": "markdown",
   "id": "c67d6bca",
   "metadata": {},
   "source": [
    "**Linear Regression 2\n",
    "\n",
    "Dataset 3 (FactinternetSales) will be used to for a multiple linear regression model.\n",
    "\n",
    "The dataset is made up of 26 variabes and 60397 observations. The dependent variable is SalesAmount.\n",
    "\n",
    "The purpose of this model is to investigate factors affecting the volume of sales and to make prediction regarding the amount of sales. This will help the business managers make proper planning or budget based on the expected revenue.\n"
   ]
  },
  {
   "cell_type": "markdown",
   "id": "9c33f78a",
   "metadata": {},
   "source": [
    "**Import dataset and explore some of the features"
   ]
  },
  {
   "cell_type": "code",
   "execution_count": 57,
   "id": "28a4d578",
   "metadata": {},
   "outputs": [],
   "source": [
    "df_sales = pd.read_csv(\"FactinternetSales.csv\")"
   ]
  },
  {
   "cell_type": "code",
   "execution_count": 58,
   "id": "370f3b81",
   "metadata": {},
   "outputs": [
    {
     "data": {
      "text/html": [
       "<div>\n",
       "<style scoped>\n",
       "    .dataframe tbody tr th:only-of-type {\n",
       "        vertical-align: middle;\n",
       "    }\n",
       "\n",
       "    .dataframe tbody tr th {\n",
       "        vertical-align: top;\n",
       "    }\n",
       "\n",
       "    .dataframe thead th {\n",
       "        text-align: right;\n",
       "    }\n",
       "</style>\n",
       "<table border=\"1\" class=\"dataframe\">\n",
       "  <thead>\n",
       "    <tr style=\"text-align: right;\">\n",
       "      <th></th>\n",
       "      <th>ProductKey</th>\n",
       "      <th>OrderDateKey</th>\n",
       "      <th>DueDateKey</th>\n",
       "      <th>ShipDateKey</th>\n",
       "      <th>CustomerKey</th>\n",
       "      <th>PromotionKey</th>\n",
       "      <th>CurrencyKey</th>\n",
       "      <th>SalesTerritoryKey</th>\n",
       "      <th>SalesOrderNumber</th>\n",
       "      <th>SalesOrderLineNumber</th>\n",
       "      <th>...</th>\n",
       "      <th>ProductStandardCost</th>\n",
       "      <th>TotalProductCost</th>\n",
       "      <th>SalesAmount</th>\n",
       "      <th>TaxAmt</th>\n",
       "      <th>Freight</th>\n",
       "      <th>CarrierTrackingNumber</th>\n",
       "      <th>CustomerPONumber</th>\n",
       "      <th>OrderDate</th>\n",
       "      <th>DueDate</th>\n",
       "      <th>ShipDate</th>\n",
       "    </tr>\n",
       "  </thead>\n",
       "  <tbody>\n",
       "    <tr>\n",
       "      <th>0</th>\n",
       "      <td>310</td>\n",
       "      <td>20101229</td>\n",
       "      <td>20110110</td>\n",
       "      <td>20110105</td>\n",
       "      <td>21768</td>\n",
       "      <td>1</td>\n",
       "      <td>19</td>\n",
       "      <td>6</td>\n",
       "      <td>SO43697</td>\n",
       "      <td>1</td>\n",
       "      <td>...</td>\n",
       "      <td>2171.2942</td>\n",
       "      <td>2171.2942</td>\n",
       "      <td>3578.2700</td>\n",
       "      <td>286.2616</td>\n",
       "      <td>89.4568</td>\n",
       "      <td>NaN</td>\n",
       "      <td>NaN</td>\n",
       "      <td>00:00.0</td>\n",
       "      <td>00:00.0</td>\n",
       "      <td>00:00.0</td>\n",
       "    </tr>\n",
       "    <tr>\n",
       "      <th>1</th>\n",
       "      <td>346</td>\n",
       "      <td>20101229</td>\n",
       "      <td>20110110</td>\n",
       "      <td>20110105</td>\n",
       "      <td>28389</td>\n",
       "      <td>1</td>\n",
       "      <td>39</td>\n",
       "      <td>7</td>\n",
       "      <td>SO43698</td>\n",
       "      <td>1</td>\n",
       "      <td>...</td>\n",
       "      <td>1912.1544</td>\n",
       "      <td>1912.1544</td>\n",
       "      <td>3399.9900</td>\n",
       "      <td>271.9992</td>\n",
       "      <td>84.9998</td>\n",
       "      <td>NaN</td>\n",
       "      <td>NaN</td>\n",
       "      <td>00:00.0</td>\n",
       "      <td>00:00.0</td>\n",
       "      <td>00:00.0</td>\n",
       "    </tr>\n",
       "    <tr>\n",
       "      <th>2</th>\n",
       "      <td>346</td>\n",
       "      <td>20101229</td>\n",
       "      <td>20110110</td>\n",
       "      <td>20110105</td>\n",
       "      <td>25863</td>\n",
       "      <td>1</td>\n",
       "      <td>100</td>\n",
       "      <td>1</td>\n",
       "      <td>SO43699</td>\n",
       "      <td>1</td>\n",
       "      <td>...</td>\n",
       "      <td>1912.1544</td>\n",
       "      <td>1912.1544</td>\n",
       "      <td>3399.9900</td>\n",
       "      <td>271.9992</td>\n",
       "      <td>84.9998</td>\n",
       "      <td>NaN</td>\n",
       "      <td>NaN</td>\n",
       "      <td>00:00.0</td>\n",
       "      <td>00:00.0</td>\n",
       "      <td>00:00.0</td>\n",
       "    </tr>\n",
       "    <tr>\n",
       "      <th>3</th>\n",
       "      <td>336</td>\n",
       "      <td>20101229</td>\n",
       "      <td>20110110</td>\n",
       "      <td>20110105</td>\n",
       "      <td>14501</td>\n",
       "      <td>1</td>\n",
       "      <td>100</td>\n",
       "      <td>4</td>\n",
       "      <td>SO43700</td>\n",
       "      <td>1</td>\n",
       "      <td>...</td>\n",
       "      <td>413.1463</td>\n",
       "      <td>413.1463</td>\n",
       "      <td>699.0982</td>\n",
       "      <td>55.9279</td>\n",
       "      <td>17.4775</td>\n",
       "      <td>NaN</td>\n",
       "      <td>NaN</td>\n",
       "      <td>00:00.0</td>\n",
       "      <td>00:00.0</td>\n",
       "      <td>00:00.0</td>\n",
       "    </tr>\n",
       "    <tr>\n",
       "      <th>4</th>\n",
       "      <td>346</td>\n",
       "      <td>20101229</td>\n",
       "      <td>20110110</td>\n",
       "      <td>20110105</td>\n",
       "      <td>11003</td>\n",
       "      <td>1</td>\n",
       "      <td>6</td>\n",
       "      <td>9</td>\n",
       "      <td>SO43701</td>\n",
       "      <td>1</td>\n",
       "      <td>...</td>\n",
       "      <td>1912.1544</td>\n",
       "      <td>1912.1544</td>\n",
       "      <td>3399.9900</td>\n",
       "      <td>271.9992</td>\n",
       "      <td>84.9998</td>\n",
       "      <td>NaN</td>\n",
       "      <td>NaN</td>\n",
       "      <td>00:00.0</td>\n",
       "      <td>00:00.0</td>\n",
       "      <td>00:00.0</td>\n",
       "    </tr>\n",
       "  </tbody>\n",
       "</table>\n",
       "<p>5 rows × 26 columns</p>\n",
       "</div>"
      ],
      "text/plain": [
       "   ProductKey  OrderDateKey  DueDateKey  ShipDateKey  CustomerKey  \\\n",
       "0         310      20101229    20110110     20110105        21768   \n",
       "1         346      20101229    20110110     20110105        28389   \n",
       "2         346      20101229    20110110     20110105        25863   \n",
       "3         336      20101229    20110110     20110105        14501   \n",
       "4         346      20101229    20110110     20110105        11003   \n",
       "\n",
       "   PromotionKey  CurrencyKey  SalesTerritoryKey SalesOrderNumber  \\\n",
       "0             1           19                  6          SO43697   \n",
       "1             1           39                  7          SO43698   \n",
       "2             1          100                  1          SO43699   \n",
       "3             1          100                  4          SO43700   \n",
       "4             1            6                  9          SO43701   \n",
       "\n",
       "   SalesOrderLineNumber  ...  ProductStandardCost  TotalProductCost  \\\n",
       "0                     1  ...            2171.2942         2171.2942   \n",
       "1                     1  ...            1912.1544         1912.1544   \n",
       "2                     1  ...            1912.1544         1912.1544   \n",
       "3                     1  ...             413.1463          413.1463   \n",
       "4                     1  ...            1912.1544         1912.1544   \n",
       "\n",
       "   SalesAmount    TaxAmt  Freight  CarrierTrackingNumber  CustomerPONumber  \\\n",
       "0    3578.2700  286.2616  89.4568                    NaN               NaN   \n",
       "1    3399.9900  271.9992  84.9998                    NaN               NaN   \n",
       "2    3399.9900  271.9992  84.9998                    NaN               NaN   \n",
       "3     699.0982   55.9279  17.4775                    NaN               NaN   \n",
       "4    3399.9900  271.9992  84.9998                    NaN               NaN   \n",
       "\n",
       "   OrderDate  DueDate  ShipDate  \n",
       "0    00:00.0  00:00.0   00:00.0  \n",
       "1    00:00.0  00:00.0   00:00.0  \n",
       "2    00:00.0  00:00.0   00:00.0  \n",
       "3    00:00.0  00:00.0   00:00.0  \n",
       "4    00:00.0  00:00.0   00:00.0  \n",
       "\n",
       "[5 rows x 26 columns]"
      ]
     },
     "execution_count": 58,
     "metadata": {},
     "output_type": "execute_result"
    }
   ],
   "source": [
    "df_sales.head()"
   ]
  },
  {
   "cell_type": "code",
   "execution_count": 58,
   "id": "153f6a61",
   "metadata": {},
   "outputs": [
    {
     "name": "stdout",
     "output_type": "stream",
     "text": [
      "<class 'pandas.core.frame.DataFrame'>\n",
      "RangeIndex: 60398 entries, 0 to 60397\n",
      "Data columns (total 26 columns):\n",
      " #   Column                 Non-Null Count  Dtype  \n",
      "---  ------                 --------------  -----  \n",
      " 0   ProductKey             60398 non-null  int64  \n",
      " 1   OrderDateKey           60398 non-null  int64  \n",
      " 2   DueDateKey             60398 non-null  int64  \n",
      " 3   ShipDateKey            60398 non-null  int64  \n",
      " 4   CustomerKey            60398 non-null  int64  \n",
      " 5   PromotionKey           60398 non-null  int64  \n",
      " 6   CurrencyKey            60398 non-null  int64  \n",
      " 7   SalesTerritoryKey      60398 non-null  int64  \n",
      " 8   SalesOrderNumber       60398 non-null  object \n",
      " 9   SalesOrderLineNumber   60398 non-null  int64  \n",
      " 10  RevisionNumber         60398 non-null  int64  \n",
      " 11  OrderQuantity          60398 non-null  int64  \n",
      " 12  UnitPrice              60398 non-null  float64\n",
      " 13  ExtendedAmount         60398 non-null  float64\n",
      " 14  UnitPriceDiscountPct   60398 non-null  int64  \n",
      " 15  DiscountAmount         60398 non-null  int64  \n",
      " 16  ProductStandardCost    60398 non-null  float64\n",
      " 17  TotalProductCost       60398 non-null  float64\n",
      " 18  SalesAmount            60398 non-null  float64\n",
      " 19  TaxAmt                 60398 non-null  float64\n",
      " 20  Freight                60398 non-null  float64\n",
      " 21  CarrierTrackingNumber  0 non-null      float64\n",
      " 22  CustomerPONumber       0 non-null      float64\n",
      " 23  OrderDate              60398 non-null  object \n",
      " 24  DueDate                60398 non-null  object \n",
      " 25  ShipDate               60398 non-null  object \n",
      "dtypes: float64(9), int64(13), object(4)\n",
      "memory usage: 12.0+ MB\n"
     ]
    }
   ],
   "source": [
    "df_sales.info()"
   ]
  },
  {
   "cell_type": "markdown",
   "id": "2ff0a4b5",
   "metadata": {},
   "source": [
    "The dataset contains 9 float type variables, 13 int type variables abd 4 object type variables."
   ]
  },
  {
   "cell_type": "markdown",
   "id": "40ed7b47",
   "metadata": {},
   "source": [
    "**Checking for missing or null values"
   ]
  },
  {
   "cell_type": "code",
   "execution_count": 59,
   "id": "54bd8294",
   "metadata": {},
   "outputs": [
    {
     "data": {
      "text/plain": [
       "True"
      ]
     },
     "execution_count": 59,
     "metadata": {},
     "output_type": "execute_result"
    }
   ],
   "source": [
    "df_sales.isnull().values.any()"
   ]
  },
  {
   "cell_type": "code",
   "execution_count": 60,
   "id": "f3260e66",
   "metadata": {
    "scrolled": true
   },
   "outputs": [
    {
     "data": {
      "text/plain": [
       "ProductKey                   0\n",
       "OrderDateKey                 0\n",
       "DueDateKey                   0\n",
       "ShipDateKey                  0\n",
       "CustomerKey                  0\n",
       "PromotionKey                 0\n",
       "CurrencyKey                  0\n",
       "SalesTerritoryKey            0\n",
       "SalesOrderNumber             0\n",
       "SalesOrderLineNumber         0\n",
       "RevisionNumber               0\n",
       "OrderQuantity                0\n",
       "UnitPrice                    0\n",
       "ExtendedAmount               0\n",
       "UnitPriceDiscountPct         0\n",
       "DiscountAmount               0\n",
       "ProductStandardCost          0\n",
       "TotalProductCost             0\n",
       "SalesAmount                  0\n",
       "TaxAmt                       0\n",
       "Freight                      0\n",
       "CarrierTrackingNumber    60398\n",
       "CustomerPONumber         60398\n",
       "OrderDate                    0\n",
       "DueDate                      0\n",
       "ShipDate                     0\n",
       "dtype: int64"
      ]
     },
     "execution_count": 60,
     "metadata": {},
     "output_type": "execute_result"
    }
   ],
   "source": [
    "df_sales.isnull().sum()"
   ]
  },
  {
   "cell_type": "markdown",
   "id": "59480929",
   "metadata": {},
   "source": [
    "The output shows that CarrierTrackingNumber and CustomerPONumber all null values. Hence they will be droped from the dataframe."
   ]
  },
  {
   "cell_type": "code",
   "execution_count": 61,
   "id": "24896f32",
   "metadata": {},
   "outputs": [],
   "source": [
    "df_sales.drop([\"CarrierTrackingNumber\",\"CustomerPONumber\"],axis=1, inplace=True) "
   ]
  },
  {
   "cell_type": "code",
   "execution_count": 62,
   "id": "925e79ca",
   "metadata": {},
   "outputs": [
    {
     "data": {
      "text/html": [
       "<div>\n",
       "<style scoped>\n",
       "    .dataframe tbody tr th:only-of-type {\n",
       "        vertical-align: middle;\n",
       "    }\n",
       "\n",
       "    .dataframe tbody tr th {\n",
       "        vertical-align: top;\n",
       "    }\n",
       "\n",
       "    .dataframe thead th {\n",
       "        text-align: right;\n",
       "    }\n",
       "</style>\n",
       "<table border=\"1\" class=\"dataframe\">\n",
       "  <thead>\n",
       "    <tr style=\"text-align: right;\">\n",
       "      <th></th>\n",
       "      <th>ProductKey</th>\n",
       "      <th>OrderDateKey</th>\n",
       "      <th>DueDateKey</th>\n",
       "      <th>ShipDateKey</th>\n",
       "      <th>CustomerKey</th>\n",
       "      <th>PromotionKey</th>\n",
       "      <th>CurrencyKey</th>\n",
       "      <th>SalesTerritoryKey</th>\n",
       "      <th>SalesOrderLineNumber</th>\n",
       "      <th>RevisionNumber</th>\n",
       "      <th>OrderQuantity</th>\n",
       "      <th>UnitPrice</th>\n",
       "      <th>ExtendedAmount</th>\n",
       "      <th>UnitPriceDiscountPct</th>\n",
       "      <th>DiscountAmount</th>\n",
       "      <th>ProductStandardCost</th>\n",
       "      <th>TotalProductCost</th>\n",
       "      <th>SalesAmount</th>\n",
       "      <th>TaxAmt</th>\n",
       "      <th>Freight</th>\n",
       "    </tr>\n",
       "  </thead>\n",
       "  <tbody>\n",
       "    <tr>\n",
       "      <th>count</th>\n",
       "      <td>60398.000000</td>\n",
       "      <td>6.039800e+04</td>\n",
       "      <td>6.039800e+04</td>\n",
       "      <td>6.039800e+04</td>\n",
       "      <td>60398.000000</td>\n",
       "      <td>60398.000000</td>\n",
       "      <td>60398.000000</td>\n",
       "      <td>60398.000000</td>\n",
       "      <td>60398.000000</td>\n",
       "      <td>60398.0</td>\n",
       "      <td>60398.0</td>\n",
       "      <td>60398.000000</td>\n",
       "      <td>60398.000000</td>\n",
       "      <td>60398.0</td>\n",
       "      <td>60398.0</td>\n",
       "      <td>60398.000000</td>\n",
       "      <td>60398.000000</td>\n",
       "      <td>60398.000000</td>\n",
       "      <td>60398.000000</td>\n",
       "      <td>60398.000000</td>\n",
       "    </tr>\n",
       "    <tr>\n",
       "      <th>mean</th>\n",
       "      <td>437.557932</td>\n",
       "      <td>2.012973e+07</td>\n",
       "      <td>2.013010e+07</td>\n",
       "      <td>2.012994e+07</td>\n",
       "      <td>18841.685420</td>\n",
       "      <td>1.041839</td>\n",
       "      <td>69.845326</td>\n",
       "      <td>6.244462</td>\n",
       "      <td>1.886321</td>\n",
       "      <td>1.0</td>\n",
       "      <td>1.0</td>\n",
       "      <td>486.086911</td>\n",
       "      <td>486.086911</td>\n",
       "      <td>0.0</td>\n",
       "      <td>0.0</td>\n",
       "      <td>286.065657</td>\n",
       "      <td>286.065657</td>\n",
       "      <td>486.086911</td>\n",
       "      <td>38.886954</td>\n",
       "      <td>12.152217</td>\n",
       "    </tr>\n",
       "    <tr>\n",
       "      <th>std</th>\n",
       "      <td>118.088390</td>\n",
       "      <td>4.745050e+03</td>\n",
       "      <td>4.985453e+03</td>\n",
       "      <td>4.851061e+03</td>\n",
       "      <td>5432.430404</td>\n",
       "      <td>0.342605</td>\n",
       "      <td>42.146363</td>\n",
       "      <td>2.961150</td>\n",
       "      <td>1.016328</td>\n",
       "      <td>0.0</td>\n",
       "      <td>0.0</td>\n",
       "      <td>928.489892</td>\n",
       "      <td>928.489892</td>\n",
       "      <td>0.0</td>\n",
       "      <td>0.0</td>\n",
       "      <td>552.457641</td>\n",
       "      <td>552.457641</td>\n",
       "      <td>928.489892</td>\n",
       "      <td>74.279193</td>\n",
       "      <td>23.212248</td>\n",
       "    </tr>\n",
       "    <tr>\n",
       "      <th>min</th>\n",
       "      <td>214.000000</td>\n",
       "      <td>2.010123e+07</td>\n",
       "      <td>2.011011e+07</td>\n",
       "      <td>2.011010e+07</td>\n",
       "      <td>11000.000000</td>\n",
       "      <td>1.000000</td>\n",
       "      <td>6.000000</td>\n",
       "      <td>1.000000</td>\n",
       "      <td>1.000000</td>\n",
       "      <td>1.0</td>\n",
       "      <td>1.0</td>\n",
       "      <td>2.290000</td>\n",
       "      <td>2.290000</td>\n",
       "      <td>0.0</td>\n",
       "      <td>0.0</td>\n",
       "      <td>0.856500</td>\n",
       "      <td>0.856500</td>\n",
       "      <td>2.290000</td>\n",
       "      <td>0.183200</td>\n",
       "      <td>0.057300</td>\n",
       "    </tr>\n",
       "    <tr>\n",
       "      <th>25%</th>\n",
       "      <td>359.000000</td>\n",
       "      <td>2.013040e+07</td>\n",
       "      <td>2.013042e+07</td>\n",
       "      <td>2.013041e+07</td>\n",
       "      <td>14003.000000</td>\n",
       "      <td>1.000000</td>\n",
       "      <td>19.000000</td>\n",
       "      <td>4.000000</td>\n",
       "      <td>1.000000</td>\n",
       "      <td>1.0</td>\n",
       "      <td>1.0</td>\n",
       "      <td>7.950000</td>\n",
       "      <td>7.950000</td>\n",
       "      <td>0.0</td>\n",
       "      <td>0.0</td>\n",
       "      <td>2.973300</td>\n",
       "      <td>2.973300</td>\n",
       "      <td>7.950000</td>\n",
       "      <td>0.636000</td>\n",
       "      <td>0.198800</td>\n",
       "    </tr>\n",
       "    <tr>\n",
       "      <th>50%</th>\n",
       "      <td>479.000000</td>\n",
       "      <td>2.013071e+07</td>\n",
       "      <td>2.013073e+07</td>\n",
       "      <td>2.013072e+07</td>\n",
       "      <td>18143.000000</td>\n",
       "      <td>1.000000</td>\n",
       "      <td>100.000000</td>\n",
       "      <td>7.000000</td>\n",
       "      <td>2.000000</td>\n",
       "      <td>1.0</td>\n",
       "      <td>1.0</td>\n",
       "      <td>29.990000</td>\n",
       "      <td>29.990000</td>\n",
       "      <td>0.0</td>\n",
       "      <td>0.0</td>\n",
       "      <td>11.216300</td>\n",
       "      <td>11.216300</td>\n",
       "      <td>29.990000</td>\n",
       "      <td>2.399200</td>\n",
       "      <td>0.749800</td>\n",
       "    </tr>\n",
       "    <tr>\n",
       "      <th>75%</th>\n",
       "      <td>529.000000</td>\n",
       "      <td>2.013102e+07</td>\n",
       "      <td>2.013103e+07</td>\n",
       "      <td>2.013102e+07</td>\n",
       "      <td>23429.750000</td>\n",
       "      <td>1.000000</td>\n",
       "      <td>100.000000</td>\n",
       "      <td>9.000000</td>\n",
       "      <td>2.000000</td>\n",
       "      <td>1.0</td>\n",
       "      <td>1.0</td>\n",
       "      <td>539.990000</td>\n",
       "      <td>539.990000</td>\n",
       "      <td>0.0</td>\n",
       "      <td>0.0</td>\n",
       "      <td>294.579700</td>\n",
       "      <td>294.579700</td>\n",
       "      <td>539.990000</td>\n",
       "      <td>43.199200</td>\n",
       "      <td>13.499800</td>\n",
       "    </tr>\n",
       "    <tr>\n",
       "      <th>max</th>\n",
       "      <td>606.000000</td>\n",
       "      <td>2.014013e+07</td>\n",
       "      <td>2.014021e+07</td>\n",
       "      <td>2.014020e+07</td>\n",
       "      <td>29483.000000</td>\n",
       "      <td>14.000000</td>\n",
       "      <td>100.000000</td>\n",
       "      <td>10.000000</td>\n",
       "      <td>8.000000</td>\n",
       "      <td>1.0</td>\n",
       "      <td>1.0</td>\n",
       "      <td>3578.270000</td>\n",
       "      <td>3578.270000</td>\n",
       "      <td>0.0</td>\n",
       "      <td>0.0</td>\n",
       "      <td>2171.294200</td>\n",
       "      <td>2171.294200</td>\n",
       "      <td>3578.270000</td>\n",
       "      <td>286.261600</td>\n",
       "      <td>89.456800</td>\n",
       "    </tr>\n",
       "  </tbody>\n",
       "</table>\n",
       "</div>"
      ],
      "text/plain": [
       "         ProductKey  OrderDateKey    DueDateKey   ShipDateKey   CustomerKey  \\\n",
       "count  60398.000000  6.039800e+04  6.039800e+04  6.039800e+04  60398.000000   \n",
       "mean     437.557932  2.012973e+07  2.013010e+07  2.012994e+07  18841.685420   \n",
       "std      118.088390  4.745050e+03  4.985453e+03  4.851061e+03   5432.430404   \n",
       "min      214.000000  2.010123e+07  2.011011e+07  2.011010e+07  11000.000000   \n",
       "25%      359.000000  2.013040e+07  2.013042e+07  2.013041e+07  14003.000000   \n",
       "50%      479.000000  2.013071e+07  2.013073e+07  2.013072e+07  18143.000000   \n",
       "75%      529.000000  2.013102e+07  2.013103e+07  2.013102e+07  23429.750000   \n",
       "max      606.000000  2.014013e+07  2.014021e+07  2.014020e+07  29483.000000   \n",
       "\n",
       "       PromotionKey   CurrencyKey  SalesTerritoryKey  SalesOrderLineNumber  \\\n",
       "count  60398.000000  60398.000000       60398.000000          60398.000000   \n",
       "mean       1.041839     69.845326           6.244462              1.886321   \n",
       "std        0.342605     42.146363           2.961150              1.016328   \n",
       "min        1.000000      6.000000           1.000000              1.000000   \n",
       "25%        1.000000     19.000000           4.000000              1.000000   \n",
       "50%        1.000000    100.000000           7.000000              2.000000   \n",
       "75%        1.000000    100.000000           9.000000              2.000000   \n",
       "max       14.000000    100.000000          10.000000              8.000000   \n",
       "\n",
       "       RevisionNumber  OrderQuantity     UnitPrice  ExtendedAmount  \\\n",
       "count         60398.0        60398.0  60398.000000    60398.000000   \n",
       "mean              1.0            1.0    486.086911      486.086911   \n",
       "std               0.0            0.0    928.489892      928.489892   \n",
       "min               1.0            1.0      2.290000        2.290000   \n",
       "25%               1.0            1.0      7.950000        7.950000   \n",
       "50%               1.0            1.0     29.990000       29.990000   \n",
       "75%               1.0            1.0    539.990000      539.990000   \n",
       "max               1.0            1.0   3578.270000     3578.270000   \n",
       "\n",
       "       UnitPriceDiscountPct  DiscountAmount  ProductStandardCost  \\\n",
       "count               60398.0         60398.0         60398.000000   \n",
       "mean                    0.0             0.0           286.065657   \n",
       "std                     0.0             0.0           552.457641   \n",
       "min                     0.0             0.0             0.856500   \n",
       "25%                     0.0             0.0             2.973300   \n",
       "50%                     0.0             0.0            11.216300   \n",
       "75%                     0.0             0.0           294.579700   \n",
       "max                     0.0             0.0          2171.294200   \n",
       "\n",
       "       TotalProductCost   SalesAmount        TaxAmt       Freight  \n",
       "count      60398.000000  60398.000000  60398.000000  60398.000000  \n",
       "mean         286.065657    486.086911     38.886954     12.152217  \n",
       "std          552.457641    928.489892     74.279193     23.212248  \n",
       "min            0.856500      2.290000      0.183200      0.057300  \n",
       "25%            2.973300      7.950000      0.636000      0.198800  \n",
       "50%           11.216300     29.990000      2.399200      0.749800  \n",
       "75%          294.579700    539.990000     43.199200     13.499800  \n",
       "max         2171.294200   3578.270000    286.261600     89.456800  "
      ]
     },
     "execution_count": 62,
     "metadata": {},
     "output_type": "execute_result"
    }
   ],
   "source": [
    "\n",
    "df_sales.describe()"
   ]
  },
  {
   "cell_type": "code",
   "execution_count": 63,
   "id": "346e0f44",
   "metadata": {},
   "outputs": [
    {
     "name": "stdout",
     "output_type": "stream",
     "text": [
      "<class 'pandas.core.frame.DataFrame'>\n",
      "RangeIndex: 60398 entries, 0 to 60397\n",
      "Data columns (total 24 columns):\n",
      " #   Column                Non-Null Count  Dtype  \n",
      "---  ------                --------------  -----  \n",
      " 0   ProductKey            60398 non-null  int64  \n",
      " 1   OrderDateKey          60398 non-null  int64  \n",
      " 2   DueDateKey            60398 non-null  int64  \n",
      " 3   ShipDateKey           60398 non-null  int64  \n",
      " 4   CustomerKey           60398 non-null  int64  \n",
      " 5   PromotionKey          60398 non-null  int64  \n",
      " 6   CurrencyKey           60398 non-null  int64  \n",
      " 7   SalesTerritoryKey     60398 non-null  int64  \n",
      " 8   SalesOrderNumber      60398 non-null  object \n",
      " 9   SalesOrderLineNumber  60398 non-null  int64  \n",
      " 10  RevisionNumber        60398 non-null  int64  \n",
      " 11  OrderQuantity         60398 non-null  int64  \n",
      " 12  UnitPrice             60398 non-null  float64\n",
      " 13  ExtendedAmount        60398 non-null  float64\n",
      " 14  UnitPriceDiscountPct  60398 non-null  int64  \n",
      " 15  DiscountAmount        60398 non-null  int64  \n",
      " 16  ProductStandardCost   60398 non-null  float64\n",
      " 17  TotalProductCost      60398 non-null  float64\n",
      " 18  SalesAmount           60398 non-null  float64\n",
      " 19  TaxAmt                60398 non-null  float64\n",
      " 20  Freight               60398 non-null  float64\n",
      " 21  OrderDate             60398 non-null  object \n",
      " 22  DueDate               60398 non-null  object \n",
      " 23  ShipDate              60398 non-null  object \n",
      "dtypes: float64(7), int64(13), object(4)\n",
      "memory usage: 11.1+ MB\n"
     ]
    }
   ],
   "source": [
    "df_sales.info()"
   ]
  },
  {
   "cell_type": "markdown",
   "id": "032e006f",
   "metadata": {},
   "source": [
    "**Other variables with zero values shall also be dropped."
   ]
  },
  {
   "cell_type": "code",
   "execution_count": 64,
   "id": "a51fba92",
   "metadata": {},
   "outputs": [],
   "source": [
    "df_sales.drop([\"UnitPriceDiscountPct\",\"DiscountAmount\",\"OrderDate\",\"DueDate\",\"ShipDate\"],axis=1, inplace=True) \n"
   ]
  },
  {
   "cell_type": "code",
   "execution_count": 65,
   "id": "68a55153",
   "metadata": {},
   "outputs": [
    {
     "name": "stdout",
     "output_type": "stream",
     "text": [
      "<class 'pandas.core.frame.DataFrame'>\n",
      "RangeIndex: 60398 entries, 0 to 60397\n",
      "Data columns (total 19 columns):\n",
      " #   Column                Non-Null Count  Dtype  \n",
      "---  ------                --------------  -----  \n",
      " 0   ProductKey            60398 non-null  int64  \n",
      " 1   OrderDateKey          60398 non-null  int64  \n",
      " 2   DueDateKey            60398 non-null  int64  \n",
      " 3   ShipDateKey           60398 non-null  int64  \n",
      " 4   CustomerKey           60398 non-null  int64  \n",
      " 5   PromotionKey          60398 non-null  int64  \n",
      " 6   CurrencyKey           60398 non-null  int64  \n",
      " 7   SalesTerritoryKey     60398 non-null  int64  \n",
      " 8   SalesOrderNumber      60398 non-null  object \n",
      " 9   SalesOrderLineNumber  60398 non-null  int64  \n",
      " 10  RevisionNumber        60398 non-null  int64  \n",
      " 11  OrderQuantity         60398 non-null  int64  \n",
      " 12  UnitPrice             60398 non-null  float64\n",
      " 13  ExtendedAmount        60398 non-null  float64\n",
      " 14  ProductStandardCost   60398 non-null  float64\n",
      " 15  TotalProductCost      60398 non-null  float64\n",
      " 16  SalesAmount           60398 non-null  float64\n",
      " 17  TaxAmt                60398 non-null  float64\n",
      " 18  Freight               60398 non-null  float64\n",
      "dtypes: float64(7), int64(11), object(1)\n",
      "memory usage: 8.8+ MB\n"
     ]
    }
   ],
   "source": [
    "df_sales.info()"
   ]
  },
  {
   "cell_type": "markdown",
   "id": "3dacf71a",
   "metadata": {},
   "source": [
    "**The Linear regression model shall be built which will predict the Sales amount using the test data.\n",
    "The dependent variable is Sales Amount while the independent variables are:\n",
    "1. UnitPrice\n",
    "2. TotalProductCost\n",
    "3. TaxAmt\n",
    "4. Freight\n",
    "5. CurrencyKey\n",
    "6. SalesTerritoryKey\n",
    "7. CustomerKey\n"
   ]
  },
  {
   "cell_type": "markdown",
   "id": "ed1e1d1e",
   "metadata": {},
   "source": [
    "**The relationship between the dependent variable and the independent variables shall be visualized to check if a linear relationship exists. This will be done using a scatter plot."
   ]
  },
  {
   "cell_type": "code",
   "execution_count": 66,
   "id": "6901547c",
   "metadata": {},
   "outputs": [
    {
     "data": {
      "image/png": "[encoded data removed]",
      "text/plain": [
       "<Figure size 432x288 with 1 Axes>"
      ]
     },
     "metadata": {
      "needs_background": "light"
     },
     "output_type": "display_data"
    }
   ],
   "source": [
    "sns.regplot(x=\"UnitPrice\",\n",
    "            y=\"SalesAmount\", \n",
    "            data=df_sales,color= 'red');"
   ]
  },
  {
   "cell_type": "code",
   "execution_count": 67,
   "id": "d8e4eadf",
   "metadata": {},
   "outputs": [
    {
     "data": {
      "image/png": "[encoded data removed]",
      "text/plain": [
       "<Figure size 432x288 with 1 Axes>"
      ]
     },
     "metadata": {
      "needs_background": "light"
     },
     "output_type": "display_data"
    }
   ],
   "source": [
    "sns.regplot(x=\"TotalProductCost\",\n",
    "            y=\"SalesAmount\", \n",
    "            data=df_sales,color= 'red');"
   ]
  },
  {
   "cell_type": "code",
   "execution_count": 68,
   "id": "c39b9598",
   "metadata": {},
   "outputs": [
    {
     "data": {
      "image/png": "[encoded data removed]",
      "text/plain": [
       "<Figure size 432x288 with 1 Axes>"
      ]
     },
     "metadata": {
      "needs_background": "light"
     },
     "output_type": "display_data"
    }
   ],
   "source": [
    "sns.regplot(x=\"TaxAmt\",\n",
    "            y=\"SalesAmount\", \n",
    "            data=df_sales,color= 'red');"
   ]
  },
  {
   "cell_type": "code",
   "execution_count": 69,
   "id": "ee6847d6",
   "metadata": {},
   "outputs": [
    {
     "data": {
      "image/png": "[encoded data removed]",
      "text/plain": [
       "<Figure size 432x288 with 1 Axes>"
      ]
     },
     "metadata": {
      "needs_background": "light"
     },
     "output_type": "display_data"
    }
   ],
   "source": [
    "sns.regplot(x=\"Freight\",\n",
    "            y=\"SalesAmount\", \n",
    "            data=df_sales,color= 'red');"
   ]
  },
  {
   "cell_type": "code",
   "execution_count": 70,
   "id": "df403da9",
   "metadata": {},
   "outputs": [
    {
     "data": {
      "text/plain": [
       "Text(0.5, 1.0, 'Scatter Plot Showing Unit price and Sales Amt')"
      ]
     },
     "execution_count": 70,
     "metadata": {},
     "output_type": "execute_result"
    },
    {
     "data": {
      "image/png": "[encoded data removed]",
      "text/plain": [
       "<Figure size 432x288 with 1 Axes>"
      ]
     },
     "metadata": {
      "needs_background": "light"
     },
     "output_type": "display_data"
    }
   ],
   "source": [
    "plt.scatter(x=\"UnitPrice\", y=\"SalesAmount\",data=df_sales, marker='o', alpha=0.5,cmap='Spectral',color= 'red');\n",
    "plt.ylabel(\"Unit Price\")\n",
    "plt.xlabel(\"Sales Amount\")\n",
    "plt.title(\"Scatter Plot Showing Unit price and Sales Amt\")"
   ]
  },
  {
   "cell_type": "code",
   "execution_count": 71,
   "id": "fb77d7f8",
   "metadata": {},
   "outputs": [
    {
     "data": {
      "text/plain": [
       "Text(0.5, 1.0, 'Scatter Plot showing no Linear relationship')"
      ]
     },
     "execution_count": 71,
     "metadata": {},
     "output_type": "execute_result"
    },
    {
     "data": {
      "image/png": "[encoded data removed]",
      "text/plain": [
       "<Figure size 432x288 with 1 Axes>"
      ]
     },
     "metadata": {
      "needs_background": "light"
     },
     "output_type": "display_data"
    }
   ],
   "source": [
    "#some variables such as SalesTerritoryKey will show no linear relationship with the dependent variable\n",
    "plt.scatter(x=\"SalesTerritoryKey\", y=\"SalesAmount\",data=df_sales, marker='o', alpha=0.5,cmap='Spectral',color= 'blue');\n",
    "plt.ylabel(\"Unit Price\")\n",
    "plt.xlabel(\"Sales Amount\")\n",
    "plt.title(\"Scatter Plot showing no Linear relationship\")"
   ]
  },
  {
   "cell_type": "code",
   "execution_count": 72,
   "id": "55e32f8e",
   "metadata": {},
   "outputs": [
    {
     "data": {
      "text/plain": [
       "<seaborn.axisgrid.FacetGrid at 0x1bd2f6528e0>"
      ]
     },
     "execution_count": 72,
     "metadata": {},
     "output_type": "execute_result"
    },
    {
     "data": {
      "image/png": "[encoded data removed]",
      "text/plain": [
       "<Figure size 360x360 with 1 Axes>"
      ]
     },
     "metadata": {
      "needs_background": "light"
     },
     "output_type": "display_data"
    }
   ],
   "source": [
    "sns.relplot(data=df_sales, kind=\"line\", x=\"UnitPrice\", y=\"SalesAmount\")"
   ]
  },
  {
   "cell_type": "markdown",
   "id": "41856bea",
   "metadata": {},
   "source": [
    "**Linear regression"
   ]
  },
  {
   "cell_type": "code",
   "execution_count": 73,
   "id": "30ba632a",
   "metadata": {},
   "outputs": [],
   "source": [
    "#Setting the value for X and Y\n",
    "X = df_sales[['UnitPrice','TotalProductCost','TaxAmt','Freight','CurrencyKey','SalesTerritoryKey','CustomerKey',]]\n",
    "y = df_sales['SalesAmount']"
   ]
  },
  {
   "cell_type": "code",
   "execution_count": 74,
   "id": "4fd5c457",
   "metadata": {},
   "outputs": [],
   "source": [
    "#Splitting the dataset\n",
    "from sklearn.model_selection import train_test_split"
   ]
  },
  {
   "cell_type": "code",
   "execution_count": 75,
   "id": "f94d1d64",
   "metadata": {},
   "outputs": [],
   "source": [
    "X_train, X_test, y_train, y_test = train_test_split(X, y, test_size=0.30, random_state=102)"
   ]
  },
  {
   "cell_type": "code",
   "execution_count": 76,
   "id": "233086ca",
   "metadata": {},
   "outputs": [
    {
     "data": {
      "text/plain": [
       "LinearRegression()"
      ]
     },
     "execution_count": 76,
     "metadata": {},
     "output_type": "execute_result"
    }
   ],
   "source": [
    "#Fitting the Multiple Linear Regression model\n",
    "from sklearn.linear_model import LinearRegression\n",
    "LR_Model = LinearRegression()  \n",
    "LR_Model.fit(X_train, y_train)"
   ]
  },
  {
   "cell_type": "code",
   "execution_count": 77,
   "id": "b201e27a",
   "metadata": {},
   "outputs": [
    {
     "name": "stdout",
     "output_type": "stream",
     "text": [
      "Intercept:  -1.5916157281026244e-12\n",
      "Coefficients:\n"
     ]
    },
    {
     "data": {
      "text/plain": [
       "[('UnitPrice', 1.0000000001650948),\n",
       " ('TotalProductCost', 7.620491869452227e-16),\n",
       " ('TaxAmt', -2.13065065040944e-09),\n",
       " ('Freight', 2.1445215641739515e-10),\n",
       " ('CurrencyKey', -7.63387362304814e-16),\n",
       " ('SalesTerritoryKey', 1.2890196502550871e-15),\n",
       " ('CustomerKey', -3.1896443913001014e-17)]"
      ]
     },
     "execution_count": 77,
     "metadata": {},
     "output_type": "execute_result"
    }
   ],
   "source": [
    "#Intercept and Coefficient\n",
    "print(\"Intercept: \", LR_Model.intercept_)\n",
    "print(\"Coefficients:\")\n",
    "list(zip(X, LR_Model.coef_))"
   ]
  },
  {
   "cell_type": "markdown",
   "id": "4ae40998",
   "metadata": {},
   "source": [
    "**Prediction on the test set for the Sales Amount"
   ]
  },
  {
   "cell_type": "code",
   "execution_count": 78,
   "id": "3c3b8834",
   "metadata": {},
   "outputs": [
    {
     "name": "stdout",
     "output_type": "stream",
     "text": [
      "Prediction for test set: [ 742.35    4.99  120.   ...   34.99 1214.85   34.99]\n"
     ]
    }
   ],
   "source": [
    "#Prediction of test set\n",
    "y_pred_LR_Model= LR_Model.predict(X_test)\n",
    "#Predicted values\n",
    "print(\"Prediction for test set: {}\".format(y_pred_LR_Model))"
   ]
  },
  {
   "cell_type": "code",
   "execution_count": 79,
   "id": "5ebf27ba",
   "metadata": {},
   "outputs": [
    {
     "data": {
      "text/html": [
       "<div>\n",
       "<style scoped>\n",
       "    .dataframe tbody tr th:only-of-type {\n",
       "        vertical-align: middle;\n",
       "    }\n",
       "\n",
       "    .dataframe tbody tr th {\n",
       "        vertical-align: top;\n",
       "    }\n",
       "\n",
       "    .dataframe thead th {\n",
       "        text-align: right;\n",
       "    }\n",
       "</style>\n",
       "<table border=\"1\" class=\"dataframe\">\n",
       "  <thead>\n",
       "    <tr style=\"text-align: right;\">\n",
       "      <th></th>\n",
       "      <th>Actual value</th>\n",
       "      <th>Predicted value</th>\n",
       "    </tr>\n",
       "  </thead>\n",
       "  <tbody>\n",
       "    <tr>\n",
       "      <th>42542</th>\n",
       "      <td>742.35</td>\n",
       "      <td>742.35</td>\n",
       "    </tr>\n",
       "    <tr>\n",
       "      <th>25425</th>\n",
       "      <td>4.99</td>\n",
       "      <td>4.99</td>\n",
       "    </tr>\n",
       "    <tr>\n",
       "      <th>28997</th>\n",
       "      <td>120.00</td>\n",
       "      <td>120.00</td>\n",
       "    </tr>\n",
       "    <tr>\n",
       "      <th>10580</th>\n",
       "      <td>9.99</td>\n",
       "      <td>9.99</td>\n",
       "    </tr>\n",
       "    <tr>\n",
       "      <th>28661</th>\n",
       "      <td>53.99</td>\n",
       "      <td>53.99</td>\n",
       "    </tr>\n",
       "  </tbody>\n",
       "</table>\n",
       "</div>"
      ],
      "text/plain": [
       "       Actual value  Predicted value\n",
       "42542        742.35           742.35\n",
       "25425          4.99             4.99\n",
       "28997        120.00           120.00\n",
       "10580          9.99             9.99\n",
       "28661         53.99            53.99"
      ]
     },
     "execution_count": 79,
     "metadata": {},
     "output_type": "execute_result"
    }
   ],
   "source": [
    "#Actual value and the predicted value\n",
    "LR_Model_diff = pd.DataFrame({'Actual value': y_test, 'Predicted value': y_pred_LR_Model})\n",
    "LR_Model_diff.head()"
   ]
  },
  {
   "cell_type": "markdown",
   "id": "3f3cd97c",
   "metadata": {},
   "source": [
    "**Model Evaluation"
   ]
  },
  {
   "cell_type": "code",
   "execution_count": 80,
   "id": "3abbcada",
   "metadata": {},
   "outputs": [
    {
     "name": "stdout",
     "output_type": "stream",
     "text": [
      "R squared: 1.00\n",
      "Mean Absolute Error: 3.1295127147070144e-12\n",
      "Mean Square Error: 1.7462324047698038e-23\n",
      "Root Mean Square Error: 4.178794568736065e-12\n"
     ]
    }
   ],
   "source": [
    "#Model Evaluation\n",
    "from sklearn import metrics\n",
    "meanAbErr = metrics.mean_absolute_error(y_test, y_pred_LR_Model)\n",
    "meanSqErr = metrics.mean_squared_error(y_test, y_pred_LR_Model)\n",
    "rootMeanSqErr = np.sqrt(metrics.mean_squared_error(y_test, y_pred_LR_Model))\n",
    "print('R squared: {:.2f}'.format(LR_Model.score(X,y)))\n",
    "print('Mean Absolute Error:', meanAbErr)\n",
    "print('Mean Square Error:', meanSqErr)\n",
    "print('Root Mean Square Error:', rootMeanSqErr)"
   ]
  },
  {
   "cell_type": "markdown",
   "id": "142d66ca",
   "metadata": {},
   "source": [
    "**The result from the multiple linear regression above shows impressive outcome with R-Squared of 100%. This shows that the model has a good fit and very high predictive ability. However, the 100 percent predictive ability could have resulted from the perfect linear relationship between the dependent variables and the key independent variables as shown by the scatter plots in the visualization."
   ]
  },
  {
   "cell_type": "code",
   "execution_count": null,
   "id": "d213ae20",
   "metadata": {},
   "outputs": [],
   "source": []
  }
 ],
 "metadata": {
  "kernelspec": {
   "display_name": "Python 3 (ipykernel)",
   "language": "python",
   "name": "python3"
  },
  "language_info": {
   "codemirror_mode": {
    "name": "ipython",
    "version": 3
   },
   "file_extension": ".py",
   "mimetype": "text/x-python",
   "name": "python",
   "nbconvert_exporter": "python",
   "pygments_lexer": "ipython3",
   "version": "3.9.12"
  }
 },
 "nbformat": 4,
 "nbformat_minor": 5
}
